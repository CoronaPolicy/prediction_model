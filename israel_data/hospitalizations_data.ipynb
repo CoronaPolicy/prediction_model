{
 "cells": [
  {
   "cell_type": "code",
   "execution_count": 1,
   "id": "a64ffb82-1c24-4176-8c87-dcf8d4a22eb5",
   "metadata": {},
   "outputs": [],
   "source": [
    "import numpy as np\n",
    "import pandas as pd\n",
    "from matplotlib import pyplot as plt\n",
    "import matplotlib.patches as patches\n",
    "from scipy.stats import pearsonr, spearmanr\n",
    "plt.style.use('../images/presentation.mplstyle')\n",
    "plt.rcParams[\"figure.figsize\"] = (12, 6)"
   ]
  },
  {
   "cell_type": "code",
   "execution_count": 2,
   "id": "0c20806d-0205-494a-ae78-314c4b036dce",
   "metadata": {},
   "outputs": [],
   "source": [
    "def get_cmap(n=20, map_str= 'hsv'):\n",
    "    cmap = plt.get_cmap(map_str)\n",
    "    colors = [cmap(i) for i in np.linspace(0, 1, n)]\n",
    "    return colors"
   ]
  },
  {
   "cell_type": "code",
   "execution_count": 3,
   "id": "55e737f2-4b38-437c-b081-c2c43fa5fb1a",
   "metadata": {},
   "outputs": [],
   "source": [
    "hos_data = pd.read_csv(\"corona_hospitalization_ver_00231.csv\")"
   ]
  },
  {
   "cell_type": "code",
   "execution_count": 9,
   "id": "bf43b665-9674-46dd-8bb4-fe6fb9b0d9c4",
   "metadata": {},
   "outputs": [],
   "source": [
    "hos_data = hos_data.rename(columns={'מאושפזים': 'num_hosp', 'תאריך': 'date'})"
   ]
  },
  {
   "cell_type": "code",
   "execution_count": 11,
   "id": "eaf82b51-d313-46d2-abd2-5e2dc6806862",
   "metadata": {},
   "outputs": [],
   "source": [
    "hos_data = hos_data[['date','num_hosp']]"
   ]
  },
  {
   "cell_type": "code",
   "execution_count": 16,
   "id": "de856ea8-5429-4bec-958b-9c2a79a8a08f",
   "metadata": {},
   "outputs": [
    {
     "name": "stderr",
     "output_type": "stream",
     "text": [
      "<ipython-input-16-2ae78f6d61ba>:1: SettingWithCopyWarning: \n",
      "A value is trying to be set on a copy of a slice from a DataFrame.\n",
      "Try using .loc[row_indexer,col_indexer] = value instead\n",
      "\n",
      "See the caveats in the documentation: https://pandas.pydata.org/pandas-docs/stable/user_guide/indexing.html#returning-a-view-versus-a-copy\n",
      "  hos_data['date'] = pd.to_datetime(hos_data['date'],format='%Y-%m-%d')\n"
     ]
    }
   ],
   "source": [
    "hos_data['date'] = pd.to_datetime(hos_data['date'],format='%Y-%m-%d')"
   ]
  },
  {
   "cell_type": "code",
   "execution_count": 19,
   "id": "a607fcf5-892f-4104-896d-d70450bed210",
   "metadata": {},
   "outputs": [],
   "source": [
    "data_3 = hos_data[hos_data['date']>=pd.to_datetime(\"2020-11-10\",format='%Y-%m-%d')]\n",
    "data_3.to_csv(\"hospitalizations_data.csv\")"
   ]
  },
  {
   "cell_type": "code",
   "execution_count": null,
   "id": "a8c15b64-23d0-493b-8449-fe4a9835c55a",
   "metadata": {},
   "outputs": [],
   "source": []
  }
 ],
 "metadata": {
  "kernelspec": {
   "display_name": "Python 3",
   "language": "python",
   "name": "python3"
  },
  "language_info": {
   "codemirror_mode": {
    "name": "ipython",
    "version": 3
   },
   "file_extension": ".py",
   "mimetype": "text/x-python",
   "name": "python",
   "nbconvert_exporter": "python",
   "pygments_lexer": "ipython3",
   "version": "3.8.5"
  }
 },
 "nbformat": 4,
 "nbformat_minor": 5
}
