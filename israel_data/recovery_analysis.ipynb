{
 "cells": [
  {
   "cell_type": "code",
   "execution_count": 1,
   "id": "eea439b6-4e0b-4bba-a0d2-74f05a58255d",
   "metadata": {},
   "outputs": [],
   "source": [
    "import numpy as np\n",
    "import pandas as pd\n",
    "from matplotlib import pyplot as plt\n",
    "import matplotlib.patches as patches\n",
    "from scipy.stats import pearsonr, spearmanr\n",
    "plt.style.use('../images/presentation.mplstyle')\n",
    "plt.rcParams[\"figure.figsize\"] = (12, 6)\n",
    "import scipy.stats as stats    "
   ]
  },
  {
   "cell_type": "code",
   "execution_count": 2,
   "id": "8a2477ba-bb2e-4ed8-a805-4c4870f63d20",
   "metadata": {},
   "outputs": [],
   "source": [
    "def get_cmap(n=20, map_str= 'hsv'):\n",
    "    cmap = plt.get_cmap(map_str)\n",
    "    colors = [cmap(i) for i in np.linspace(0, 1, n)]\n",
    "    return colors"
   ]
  },
  {
   "cell_type": "code",
   "execution_count": 3,
   "id": "8d3536f3-1417-4cc2-857e-8161d73a4baa",
   "metadata": {},
   "outputs": [],
   "source": [
    "recover_data = pd.read_excel(\"corona_recovered_ver_00120.xlsx\")"
   ]
  },
  {
   "cell_type": "code",
   "execution_count": 4,
   "id": "7d04de0d-3ec2-4767-981b-ee754e64e80c",
   "metadata": {},
   "outputs": [],
   "source": [
    "recover_data['mean'] = recover_data['days_between_pos_and_recovery']\n",
    "recover_data['var'] = recover_data['days_between_pos_and_recovery']"
   ]
  },
  {
   "cell_type": "code",
   "execution_count": null,
   "id": "4a1086a9-fa06-4dee-8d52-e8caaab2ec9e",
   "metadata": {},
   "outputs": [],
   "source": []
  },
  {
   "cell_type": "code",
   "execution_count": 8,
   "id": "4985d057-3519-4114-98a7-0c61cf145445",
   "metadata": {},
   "outputs": [
    {
     "data": {
      "text/html": [
       "<div>\n",
       "<style scoped>\n",
       "    .dataframe tbody tr th:only-of-type {\n",
       "        vertical-align: middle;\n",
       "    }\n",
       "\n",
       "    .dataframe tbody tr th {\n",
       "        vertical-align: top;\n",
       "    }\n",
       "\n",
       "    .dataframe thead th {\n",
       "        text-align: right;\n",
       "    }\n",
       "</style>\n",
       "<table border=\"1\" class=\"dataframe\">\n",
       "  <thead>\n",
       "    <tr style=\"text-align: right;\">\n",
       "      <th></th>\n",
       "      <th>days_between_pos_and_recovery</th>\n",
       "      <th>total_tests_count</th>\n",
       "      <th>age_group</th>\n",
       "      <th>gender</th>\n",
       "      <th>test_indication</th>\n",
       "      <th>mean</th>\n",
       "      <th>var</th>\n",
       "    </tr>\n",
       "  </thead>\n",
       "  <tbody>\n",
       "    <tr>\n",
       "      <th>725</th>\n",
       "      <td>173.0</td>\n",
       "      <td>2</td>\n",
       "      <td>0-19</td>\n",
       "      <td>נקבה</td>\n",
       "      <td>Contact with confirmed</td>\n",
       "      <td>173.0</td>\n",
       "      <td>173.0</td>\n",
       "    </tr>\n",
       "    <tr>\n",
       "      <th>982</th>\n",
       "      <td>130.0</td>\n",
       "      <td>2</td>\n",
       "      <td>0-19</td>\n",
       "      <td>זכר</td>\n",
       "      <td>Other</td>\n",
       "      <td>130.0</td>\n",
       "      <td>130.0</td>\n",
       "    </tr>\n",
       "    <tr>\n",
       "      <th>1414</th>\n",
       "      <td>171.0</td>\n",
       "      <td>2</td>\n",
       "      <td>0-19</td>\n",
       "      <td>זכר</td>\n",
       "      <td>Other</td>\n",
       "      <td>171.0</td>\n",
       "      <td>171.0</td>\n",
       "    </tr>\n",
       "    <tr>\n",
       "      <th>3121</th>\n",
       "      <td>180.0</td>\n",
       "      <td>3</td>\n",
       "      <td>0-19</td>\n",
       "      <td>נקבה</td>\n",
       "      <td>Other</td>\n",
       "      <td>180.0</td>\n",
       "      <td>180.0</td>\n",
       "    </tr>\n",
       "    <tr>\n",
       "      <th>3836</th>\n",
       "      <td>134.0</td>\n",
       "      <td>2</td>\n",
       "      <td>0-19</td>\n",
       "      <td>נקבה</td>\n",
       "      <td>Other</td>\n",
       "      <td>134.0</td>\n",
       "      <td>134.0</td>\n",
       "    </tr>\n",
       "    <tr>\n",
       "      <th>...</th>\n",
       "      <td>...</td>\n",
       "      <td>...</td>\n",
       "      <td>...</td>\n",
       "      <td>...</td>\n",
       "      <td>...</td>\n",
       "      <td>...</td>\n",
       "      <td>...</td>\n",
       "    </tr>\n",
       "    <tr>\n",
       "      <th>819749</th>\n",
       "      <td>105.0</td>\n",
       "      <td>1</td>\n",
       "      <td>0-19</td>\n",
       "      <td>נקבה</td>\n",
       "      <td>Contact with confirmed</td>\n",
       "      <td>105.0</td>\n",
       "      <td>105.0</td>\n",
       "    </tr>\n",
       "    <tr>\n",
       "      <th>820752</th>\n",
       "      <td>165.0</td>\n",
       "      <td>2</td>\n",
       "      <td>0-19</td>\n",
       "      <td>נקבה</td>\n",
       "      <td>Other</td>\n",
       "      <td>165.0</td>\n",
       "      <td>165.0</td>\n",
       "    </tr>\n",
       "    <tr>\n",
       "      <th>821493</th>\n",
       "      <td>152.0</td>\n",
       "      <td>1</td>\n",
       "      <td>0-19</td>\n",
       "      <td>נקבה</td>\n",
       "      <td>Contact with confirmed</td>\n",
       "      <td>152.0</td>\n",
       "      <td>152.0</td>\n",
       "    </tr>\n",
       "    <tr>\n",
       "      <th>822010</th>\n",
       "      <td>101.0</td>\n",
       "      <td>1</td>\n",
       "      <td>0-19</td>\n",
       "      <td>נקבה</td>\n",
       "      <td>Other</td>\n",
       "      <td>101.0</td>\n",
       "      <td>101.0</td>\n",
       "    </tr>\n",
       "    <tr>\n",
       "      <th>822235</th>\n",
       "      <td>134.0</td>\n",
       "      <td>1</td>\n",
       "      <td>0-19</td>\n",
       "      <td>נקבה</td>\n",
       "      <td>Contact with confirmed</td>\n",
       "      <td>134.0</td>\n",
       "      <td>134.0</td>\n",
       "    </tr>\n",
       "  </tbody>\n",
       "</table>\n",
       "<p>1521 rows × 7 columns</p>\n",
       "</div>"
      ],
      "text/plain": [
       "        days_between_pos_and_recovery total_tests_count age_group gender  \\\n",
       "725                             173.0                 2      0-19   נקבה   \n",
       "982                             130.0                 2      0-19    זכר   \n",
       "1414                            171.0                 2      0-19    זכר   \n",
       "3121                            180.0                 3      0-19   נקבה   \n",
       "3836                            134.0                 2      0-19   נקבה   \n",
       "...                               ...               ...       ...    ...   \n",
       "819749                          105.0                 1      0-19   נקבה   \n",
       "820752                          165.0                 2      0-19   נקבה   \n",
       "821493                          152.0                 1      0-19   נקבה   \n",
       "822010                          101.0                 1      0-19   נקבה   \n",
       "822235                          134.0                 1      0-19   נקבה   \n",
       "\n",
       "               test_indication   mean    var  \n",
       "725     Contact with confirmed  173.0  173.0  \n",
       "982                      Other  130.0  130.0  \n",
       "1414                     Other  171.0  171.0  \n",
       "3121                     Other  180.0  180.0  \n",
       "3836                     Other  134.0  134.0  \n",
       "...                        ...    ...    ...  \n",
       "819749  Contact with confirmed  105.0  105.0  \n",
       "820752                   Other  165.0  165.0  \n",
       "821493  Contact with confirmed  152.0  152.0  \n",
       "822010                   Other  101.0  101.0  \n",
       "822235  Contact with confirmed  134.0  134.0  \n",
       "\n",
       "[1521 rows x 7 columns]"
      ]
     },
     "execution_count": 8,
     "metadata": {},
     "output_type": "execute_result"
    }
   ],
   "source": [
    "rr = recover_data[recover_data.age_group == '0-19']\n",
    "rr[rr.days_between_pos_and_recovery >100]"
   ]
  },
  {
   "cell_type": "code",
   "execution_count": 51,
   "id": "2729fba0-f5d4-4450-b537-6be4db68aea1",
   "metadata": {},
   "outputs": [
    {
     "data": {
      "text/plain": [
       "386.0"
      ]
     },
     "execution_count": 51,
     "metadata": {},
     "output_type": "execute_result"
    }
   ],
   "source": [
    "recover_data[recover_data.age_group == '0-19'].days_between_pos_and_recovery.max()"
   ]
  },
  {
   "cell_type": "code",
   "execution_count": 29,
   "id": "9dd00102-a696-4ef5-91a3-d240ded1277e",
   "metadata": {},
   "outputs": [],
   "source": [
    "mean_age_recovery = recover_data.groupby(\"age_group\", as_index=False).agg({\"age_group\":\"first\", \"mean\": \"mean\", \"var\": \"var\"})"
   ]
  },
  {
   "cell_type": "code",
   "execution_count": 31,
   "id": "bfdd59ea-1225-4117-b759-3bc94460d525",
   "metadata": {},
   "outputs": [],
   "source": [
    "g_alpha = mean_age_recovery['mean']*mean_age_recovery['mean']/mean_age_recovery['var']\n",
    "g_beta = mean_age_recovery['mean']/mean_age_recovery['var']"
   ]
  },
  {
   "cell_type": "code",
   "execution_count": 21,
   "id": "f0e4eda5-5c02-480c-8ec0-f80ea271e7c5",
   "metadata": {},
   "outputs": [],
   "source": [
    "# for a, df_a in recover_data.groupby(\"age_group\"):\n",
    "#     fit_alpha, fit_loc, fit_beta=stats.gamma.fit(df_a.days_between_pos_and_recovery)\n",
    "#     print(f\"alpha:{fit_alpha}, loc:{fit_loc}, beta{fit_beta}\")\n"
   ]
  },
  {
   "cell_type": "code",
   "execution_count": 41,
   "id": "ae8707b0-9dee-4c07-a51b-a35422d5120a",
   "metadata": {},
   "outputs": [],
   "source": [
    "import random\n",
    "size = 10000\n",
    "d = []\n",
    "for i in range(size):\n",
    "        d.append(random.gammavariate(g_alpha[0],1/g_beta[0]))"
   ]
  },
  {
   "cell_type": "code",
   "execution_count": 42,
   "id": "dfd7048a-a31b-4cdf-bc39-aef5930059dd",
   "metadata": {},
   "outputs": [
    {
     "data": {
      "text/plain": [
       "11.871328496606276"
      ]
     },
     "execution_count": 42,
     "metadata": {},
     "output_type": "execute_result"
    }
   ],
   "source": [
    "np.mean(d)"
   ]
  },
  {
   "cell_type": "code",
   "execution_count": 43,
   "id": "9e17fa76-5eff-44d6-8e59-2289dab5b2e7",
   "metadata": {},
   "outputs": [
    {
     "data": {
      "text/html": [
       "<div>\n",
       "<style scoped>\n",
       "    .dataframe tbody tr th:only-of-type {\n",
       "        vertical-align: middle;\n",
       "    }\n",
       "\n",
       "    .dataframe tbody tr th {\n",
       "        vertical-align: top;\n",
       "    }\n",
       "\n",
       "    .dataframe thead th {\n",
       "        text-align: right;\n",
       "    }\n",
       "</style>\n",
       "<table border=\"1\" class=\"dataframe\">\n",
       "  <thead>\n",
       "    <tr style=\"text-align: right;\">\n",
       "      <th></th>\n",
       "      <th>age_group</th>\n",
       "      <th>mean</th>\n",
       "      <th>var</th>\n",
       "    </tr>\n",
       "  </thead>\n",
       "  <tbody>\n",
       "    <tr>\n",
       "      <th>0</th>\n",
       "      <td>0-19</td>\n",
       "      <td>12.093559</td>\n",
       "      <td>174.522820</td>\n",
       "    </tr>\n",
       "    <tr>\n",
       "      <th>1</th>\n",
       "      <td>20-29</td>\n",
       "      <td>13.975094</td>\n",
       "      <td>424.738479</td>\n",
       "    </tr>\n",
       "    <tr>\n",
       "      <th>2</th>\n",
       "      <td>30-39</td>\n",
       "      <td>14.239039</td>\n",
       "      <td>440.889512</td>\n",
       "    </tr>\n",
       "    <tr>\n",
       "      <th>3</th>\n",
       "      <td>40-49</td>\n",
       "      <td>14.520353</td>\n",
       "      <td>422.728706</td>\n",
       "    </tr>\n",
       "    <tr>\n",
       "      <th>4</th>\n",
       "      <td>50-59</td>\n",
       "      <td>15.343043</td>\n",
       "      <td>470.150932</td>\n",
       "    </tr>\n",
       "    <tr>\n",
       "      <th>5</th>\n",
       "      <td>60+</td>\n",
       "      <td>18.542679</td>\n",
       "      <td>627.793126</td>\n",
       "    </tr>\n",
       "    <tr>\n",
       "      <th>6</th>\n",
       "      <td>לא ידוע</td>\n",
       "      <td>26.508050</td>\n",
       "      <td>240.634347</td>\n",
       "    </tr>\n",
       "  </tbody>\n",
       "</table>\n",
       "</div>"
      ],
      "text/plain": [
       "  age_group       mean         var\n",
       "0      0-19  12.093559  174.522820\n",
       "1     20-29  13.975094  424.738479\n",
       "2     30-39  14.239039  440.889512\n",
       "3     40-49  14.520353  422.728706\n",
       "4     50-59  15.343043  470.150932\n",
       "5       60+  18.542679  627.793126\n",
       "6   לא ידוע  26.508050  240.634347"
      ]
     },
     "execution_count": 43,
     "metadata": {},
     "output_type": "execute_result"
    }
   ],
   "source": [
    "mean_age_recovery"
   ]
  },
  {
   "cell_type": "code",
   "execution_count": null,
   "id": "1f9e36a6-5cc6-4cbb-aff2-22b9ea99930e",
   "metadata": {},
   "outputs": [],
   "source": []
  }
 ],
 "metadata": {
  "kernelspec": {
   "display_name": "Python 3",
   "language": "python",
   "name": "python3"
  },
  "language_info": {
   "codemirror_mode": {
    "name": "ipython",
    "version": 3
   },
   "file_extension": ".py",
   "mimetype": "text/x-python",
   "name": "python",
   "nbconvert_exporter": "python",
   "pygments_lexer": "ipython3",
   "version": "3.8.5"
  }
 },
 "nbformat": 4,
 "nbformat_minor": 5
}
