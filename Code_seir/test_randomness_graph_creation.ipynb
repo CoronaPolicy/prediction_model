{
 "cells": [
  {
   "cell_type": "code",
   "execution_count": 1,
   "id": "8290b570-40bc-4774-a75e-934add87f9cb",
   "metadata": {},
   "outputs": [],
   "source": [
    "from seirsplus.models import *\n",
    "from seirsplus.networks import *\n",
    "from seirsplus.sim_loops import *\n",
    "from seirsplus.utilities import *\n",
    "import networkx as nx\n",
    "import time\n",
    "import matplotlib.pyplot as plt\n",
    "import pickle\n",
    "import numpy as np\n",
    "import pandas as pd\n",
    "from seirsplus.utilities import save_model\n",
    "import pathlib\n",
    "import string, random\n",
    "import matplotlib.pyplot as plt\n",
    "from scipy.sparse import random as sparse_random\n",
    "from General_information.graph_information import graph_info\n",
    "from General_information.Health_information import health_information\n",
    "plt.style.use('../images/presentation.mplstyle')"
   ]
  },
  {
   "cell_type": "code",
   "execution_count": 2,
   "id": "cae37cf2-fac5-432c-8532-4d36fe37fd62",
   "metadata": {},
   "outputs": [],
   "source": [
    "N = 1000\n",
    "seed = 123"
   ]
  },
  {
   "cell_type": "code",
   "execution_count": 3,
   "id": "53182d4b-0d74-4f47-a7ec-13be5071e702",
   "metadata": {},
   "outputs": [
    {
     "name": "stdout",
     "output_type": "stream",
     "text": [
      "Num people in each household [-11  -2   3  -3   9   3  18  -2 -10]\n",
      "Generating graph for 0-9...\n",
      "Generating graph for 10-19...\n",
      "Generating graph for 20-39...\n",
      "Generating graph for 40-59...\n",
      "Generating graph for 60+...\n"
     ]
    }
   ],
   "source": [
    "# graph_info2 = graph_info(N)\n",
    "# # graph_info2.layers_info = layer_info\n",
    "# demographic_graphs, individual_ageGroups, households = generate_demographic_contact_network(\n",
    "#     N=N, demographic_data=household_country_data('ISRAEL'),\n",
    "#     distancing_scales=list([0.01]), isolation_groups=[], verbose=False,\n",
    "#     layer_info=graph_info2.layers_info, households_data=graph_info2.housholds, \n",
    "#     number_of_people_each_household=graph_info2.numb_each_household, seed=seed)\n",
    "# g_base = demographic_graphs['baseline']\n",
    "# nx.write_gpickle(g_base, f\"test_random_graphs/G_baseline1.gpickle\")"
   ]
  },
  {
   "cell_type": "code",
   "execution_count": 5,
   "id": "c02c06a4-54a6-466a-b2df-4c0167224cf0",
   "metadata": {},
   "outputs": [],
   "source": [
    "g = networkx.read_gpickle(f\"test_random_graphs/G_baseline.gpickle\")\n",
    "g1 = networkx.read_gpickle(f\"test_random_graphs/G_baseline1.gpickle\")"
   ]
  },
  {
   "cell_type": "code",
   "execution_count": 10,
   "id": "dbd7ed30-3471-48eb-a6f1-c9f9cdbfe93d",
   "metadata": {},
   "outputs": [],
   "source": [
    "for i in g.nodes():\n",
    "    if g.degree[i] != g1.degree[i]:\n",
    "        print(i)"
   ]
  },
  {
   "cell_type": "code",
   "execution_count": 23,
   "id": "f775a43f-bd21-4ae2-b278-4bede5cc2dd8",
   "metadata": {},
   "outputs": [],
   "source": [
    "for t1, t2 in zip(list(g.edges), list(g1.edges)):\n",
    "    if t1 != t2:\n",
    "        print(f\"t1:{t1}, t2:{t2}\")"
   ]
  },
  {
   "cell_type": "code",
   "execution_count": null,
   "id": "80805c55-cea7-4263-8b97-9c231b4eb44f",
   "metadata": {},
   "outputs": [],
   "source": []
  }
 ],
 "metadata": {
  "kernelspec": {
   "display_name": "Python 3",
   "language": "python",
   "name": "python3"
  },
  "language_info": {
   "codemirror_mode": {
    "name": "ipython",
    "version": 3
   },
   "file_extension": ".py",
   "mimetype": "text/x-python",
   "name": "python",
   "nbconvert_exporter": "python",
   "pygments_lexer": "ipython3",
   "version": "3.8.5"
  }
 },
 "nbformat": 4,
 "nbformat_minor": 5
}
