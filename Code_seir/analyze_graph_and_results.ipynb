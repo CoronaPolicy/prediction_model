{
 "cells": [
  {
   "cell_type": "code",
   "execution_count": 27,
   "metadata": {},
   "outputs": [],
   "source": [
    "from seirsplus.models import *\n",
    "from seirsplus.networks import *\n",
    "from seirsplus.sim_loops import *\n",
    "from seirsplus.utilities import *\n",
    "import networkx as nx\n",
    "import time\n",
    "import matplotlib.pyplot as plt\n",
    "import pickle\n",
    "import numpy as np\n",
    "from seirsplus.utilities import load_model, save_model"
   ]
  },
  {
   "cell_type": "code",
   "execution_count": 2,
   "metadata": {},
   "outputs": [],
   "source": [
    "G_baseline = networkx.read_gpickle(\"G_baseline.gpickle\")\n",
    "G_less_connections_1 = networkx.read_gpickle(\"G_less_connections_1.gpickle\")\n",
    "G_less_connections_2 = networkx.read_gpickle(\"G_less_connections_2.gpickle\")\n",
    "G_less_connections_3 = networkx.read_gpickle(\"G_less_connections_3.gpickle\")\n",
    "G_less_connections_4 = networkx.read_gpickle(\"G_less_connections_4.gpickle\")\n",
    "G_less_connections_5 = networkx.read_gpickle(\"G_less_connections_5.gpickle\")\n",
    "G_less_connections_6 = networkx.read_gpickle(\"G_less_connections_6.gpickle\")\n",
    "G_less_connections_7 = networkx.read_gpickle(\"G_less_connections_7.gpickle\")\n",
    "\n",
    "G_quarantine = networkx.read_gpickle(\"G_quarantine.gpickle\")\n",
    "households = pickle.load(open(\"households.p\", \"rb\"))\n",
    "individual_ageGroups = pickle.load( open(\"individual_ageGroups.p\", \"rb\"))"
   ]
  },
  {
   "cell_type": "code",
   "execution_count": 22,
   "metadata": {},
   "outputs": [],
   "source": [
    "N = 20000\n",
    "model = load_model(\"model_second_wave_2021_04_09\")"
   ]
  },
  {
   "cell_type": "code",
   "execution_count": 29,
   "metadata": {},
   "outputs": [],
   "source": [
    "node_ids = {}\n",
    "for a in np.unique(individual_ageGroups):\n",
    "    node_ids[a] = [i for i in range(len(individual_ageGroups)) if individual_ageGroups[i] == a]"
   ]
  },
  {
   "cell_type": "code",
   "execution_count": 34,
   "metadata": {},
   "outputs": [
    {
     "name": "stdout",
     "output_type": "stream",
     "text": [
      "num 0-9 : 3759\n",
      "num 10-19 : 3562\n",
      "num 20-29 : 2825\n",
      "num 30-39 : 2548\n",
      "num 40-49 : 2514\n",
      "num 50-59 : 1636\n",
      "num 60-69 : 1532\n",
      "num 70-79 : 1033\n",
      "num 80+ : 591\n"
     ]
    }
   ],
   "source": [
    "p = [print(f\"num {k} : {len(v)}\") for k,v in node_ids.items()]"
   ]
  },
  {
   "cell_type": "code",
   "execution_count": null,
   "metadata": {},
   "outputs": [],
   "source": [
    "for a, n_ids in node_ids.items():\n",
    "    nx.draw(G_baseline, )"
   ]
  }
 ],
 "metadata": {
  "kernelspec": {
   "display_name": "pyenv_38",
   "language": "python",
   "name": "py38_env"
  },
  "language_info": {
   "codemirror_mode": {
    "name": "ipython",
    "version": 3
   },
   "file_extension": ".py",
   "mimetype": "text/x-python",
   "name": "python",
   "nbconvert_exporter": "python",
   "pygments_lexer": "ipython3",
   "version": "3.8.5"
  }
 },
 "nbformat": 4,
 "nbformat_minor": 5
}
