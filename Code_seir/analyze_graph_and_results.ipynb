{
 "cells": [
  {
   "cell_type": "code",
   "execution_count": 6,
   "metadata": {},
   "outputs": [],
   "source": [
    "from seirsplus.models import *\n",
    "from seirsplus.networks import *\n",
    "from seirsplus.sim_loops import *\n",
    "from seirsplus.utilities import *\n",
    "import networkx as nx\n",
    "import time\n",
    "import matplotlib.pyplot as plt\n",
    "import pickle\n",
    "import numpy as np\n",
    "from seirsplus.utilities import load_model, save_model\n",
    "from seirsplus.networks import prune_graph_per_age"
   ]
  },
  {
   "cell_type": "code",
   "execution_count": 2,
   "metadata": {},
   "outputs": [],
   "source": [
    "G_baseline = networkx.read_gpickle(\"G_baseline.gpickle\")\n",
    "G_less_connections_1 = networkx.read_gpickle(\"G_less_connections_1.gpickle\")\n",
    "G_less_connections_2 = networkx.read_gpickle(\"G_less_connections_2.gpickle\")\n",
    "G_less_connections_3 = networkx.read_gpickle(\"G_less_connections_3.gpickle\")\n",
    "G_less_connections_4 = networkx.read_gpickle(\"G_less_connections_4.gpickle\")\n",
    "G_less_connections_5 = networkx.read_gpickle(\"G_less_connections_5.gpickle\")\n",
    "G_less_connections_6 = networkx.read_gpickle(\"G_less_connections_6.gpickle\")\n",
    "G_less_connections_7 = networkx.read_gpickle(\"G_less_connections_7.gpickle\")\n",
    "\n",
    "G_quarantine = networkx.read_gpickle(\"G_quarantine.gpickle\")\n",
    "households = pickle.load(open(\"households.p\", \"rb\"))\n",
    "individual_ageGroups = pickle.load( open(\"individual_ageGroups.p\", \"rb\"))"
   ]
  },
  {
   "cell_type": "code",
   "execution_count": 3,
   "metadata": {},
   "outputs": [],
   "source": [
    "individual_ages_indexes = [np.where(np.array(individual_ageGroups) == a)[0] for a in np.unique(np.array(individual_ageGroups))]\n",
    "num_prune_per_age = np.array([10, 5, 10, 10, 5, 4, 20, 10, 2])"
   ]
  },
  {
   "cell_type": "code",
   "execution_count": null,
   "metadata": {},
   "outputs": [],
   "source": [
    "self.S = 1\n",
    "self.E = 2\n",
    "self.I_pre = 3\n",
    "self.I_sym = 4\n",
    "self.I_asym = 5\n",
    "self.H = 6\n",
    "self.R = 7\n",
    "self.F = 8\n",
    "self.Q_S = 11\n",
    "self.Q_E = 12\n",
    "self.Q_pre = 13\n",
    "self.Q_sym = 14\n",
    "self.Q_asym = 15\n",
    "self.Q_R = 17"
   ]
  },
  {
   "cell_type": "code",
   "execution_count": null,
   "metadata": {},
   "outputs": [],
   "source": [
    "\n",
    "indexes = []\n",
    "for group in self.nodeGroupData.keys():\n",
    "    node_indexes = self.nodeGroupData[group]['nodes']\n",
    "    current_state = self.X[node_indexes]\n",
    "    s_indexes = numpy.where(current_state == self.S)[0]\n",
    "    n_vaccinate = numpy.min(s_indexes.size, num_vaccinations_per_age[group])\n",
    "    indexes_to_vaccinate = numpy.random.choice(s_indexes, size=n_vaccinate)\n",
    "    indexes.extend(indexes_to_vaccinate)"
   ]
  },
  {
   "cell_type": "code",
   "execution_count": 12,
   "metadata": {},
   "outputs": [],
   "source": [
    "N = 20000\n",
    "model = load_model(\"model_second_wave_2021_04_10\")"
   ]
  },
  {
   "cell_type": "code",
   "execution_count": 45,
   "metadata": {},
   "outputs": [
    {
     "data": {
      "text/plain": [
       "array(['0-9', '0-9', '0-9', '0-9', '0-9', '0-9', '0-9', '0-9', '0-9',\n",
       "       '0-9', '0-9', '10-19', '10-19', '10-19', '10-19', '10-19', '10-19',\n",
       "       '10-19', '30-39', '30-39', '30-39', '30-39', '30-39', '30-39',\n",
       "       '20-29', '30-39', '30-39', '30-39', '30-39', '20-29', '30-39',\n",
       "       '30-39', '30-39', '20-29', '30-39', '20-29', '20-29', '20-29',\n",
       "       '20-29', '40-49', '40-49', '40-49', '40-49', '40-49', '40-49',\n",
       "       '50-59', '50-59', '50-59', '50-59', '50-59', '50-59', '80+',\n",
       "       '70-79', '70-79', '60-69', '60-69', '60-69', '80+', '60-69',\n",
       "       '60-69', '60-69', '60-69', '70-79'], dtype='<U5')"
      ]
     },
     "execution_count": 45,
     "metadata": {},
     "output_type": "execute_result"
    }
   ],
   "source": [
    "np.array(individual_ageGroups)[np.where(model.X == 4)[0]]"
   ]
  },
  {
   "cell_type": "code",
   "execution_count": 29,
   "metadata": {},
   "outputs": [],
   "source": [
    "node_ids = {}\n",
    "for a in np.unique(individual_ageGroups):\n",
    "    node_ids[a] = [i for i in range(len(individual_ageGroups)) if individual_ageGroups[i] == a]"
   ]
  },
  {
   "cell_type": "code",
   "execution_count": 34,
   "metadata": {},
   "outputs": [
    {
     "name": "stdout",
     "output_type": "stream",
     "text": [
      "num 0-9 : 3759\n",
      "num 10-19 : 3562\n",
      "num 20-29 : 2825\n",
      "num 30-39 : 2548\n",
      "num 40-49 : 2514\n",
      "num 50-59 : 1636\n",
      "num 60-69 : 1532\n",
      "num 70-79 : 1033\n",
      "num 80+ : 591\n"
     ]
    }
   ],
   "source": [
    "p = [print(f\"num {k} : {len(v)}\") for k,v in node_ids.items()]"
   ]
  },
  {
   "cell_type": "code",
   "execution_count": null,
   "metadata": {},
   "outputs": [],
   "source": [
    "for a, n_ids in node_ids.items():\n",
    "    nx.draw(G_baseline, )"
   ]
  }
 ],
 "metadata": {
  "kernelspec": {
   "display_name": "pyenv_38",
   "language": "python",
   "name": "py38_env"
  },
  "language_info": {
   "codemirror_mode": {
    "name": "ipython",
    "version": 3
   },
   "file_extension": ".py",
   "mimetype": "text/x-python",
   "name": "python",
   "nbconvert_exporter": "python",
   "pygments_lexer": "ipython3",
   "version": "3.8.5"
  }
 },
 "nbformat": 4,
 "nbformat_minor": 5
}
