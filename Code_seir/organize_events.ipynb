{
 "cells": [
  {
   "cell_type": "code",
   "execution_count": 1,
   "id": "worst-signal",
   "metadata": {},
   "outputs": [],
   "source": [
    "import json\n",
    "import pandas as pd\n",
    "from matplotlib import pyplot as plt"
   ]
  },
  {
   "cell_type": "code",
   "execution_count": 2,
   "id": "greek-kitty",
   "metadata": {},
   "outputs": [],
   "source": [
    "with open(\"../israel_data/israel_corona_dates_taub.json\") as f:\n",
    "  data_is = json.load(f)\n"
   ]
  },
  {
   "cell_type": "code",
   "execution_count": 3,
   "id": "postal-number",
   "metadata": {},
   "outputs": [
    {
     "data": {
      "text/plain": [
       "dict_keys(['timeline', 'groups', 'events', 'periods', 'progresses', 'statistics', 'statisticsYandexMetrika', 'statisticsGoogleAnalytics', 'reportingAPIs', 'tags'])"
      ]
     },
     "execution_count": 3,
     "metadata": {},
     "output_type": "execute_result"
    }
   ],
   "source": [
    "data_is.keys()"
   ]
  },
  {
   "cell_type": "code",
   "execution_count": 14,
   "id": "horizontal-scanner",
   "metadata": {},
   "outputs": [],
   "source": [
    "data_events = pd.DataFrame(data_is['events'])"
   ]
  },
  {
   "cell_type": "code",
   "execution_count": 15,
   "id": "undefined-recycling",
   "metadata": {},
   "outputs": [],
   "source": [
    "data_events.time = pd.to_datetime(data_events.time,format='%Y %m %d')"
   ]
  },
  {
   "cell_type": "code",
   "execution_count": 6,
   "id": "contrary-miami",
   "metadata": {},
   "outputs": [],
   "source": [
    "data_events.to_csv(\"events_data.csv\")"
   ]
  },
  {
   "cell_type": "code",
   "execution_count": 12,
   "id": "robust-craft",
   "metadata": {},
   "outputs": [],
   "source": [
    "data_periods = pd.DataFrame(data_is['periods'])"
   ]
  },
  {
   "cell_type": "code",
   "execution_count": 16,
   "id": "amazing-selling",
   "metadata": {},
   "outputs": [],
   "source": [
    "data_periods.timeFrom = pd.to_datetime(data_periods.timeFrom,format='%Y %m %d')\n",
    "data_periods.timeTo = pd.to_datetime(data_periods.timeTo,format='%Y %m %d')"
   ]
  },
  {
   "cell_type": "code",
   "execution_count": null,
   "id": "considerable-chess",
   "metadata": {},
   "outputs": [],
   "source": []
  },
  {
   "cell_type": "code",
   "execution_count": null,
   "id": "verbal-format",
   "metadata": {},
   "outputs": [],
   "source": []
  }
 ],
 "metadata": {
  "kernelspec": {
   "display_name": "Python 3",
   "language": "python",
   "name": "python3"
  },
  "language_info": {
   "codemirror_mode": {
    "name": "ipython",
    "version": 3
   },
   "file_extension": ".py",
   "mimetype": "text/x-python",
   "name": "python",
   "nbconvert_exporter": "python",
   "pygments_lexer": "ipython3",
   "version": "3.7.9"
  }
 },
 "nbformat": 4,
 "nbformat_minor": 5
}
