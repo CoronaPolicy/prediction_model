{
 "cells": [
  {
   "cell_type": "code",
   "execution_count": 1,
   "metadata": {},
   "outputs": [],
   "source": [
    "import numpy as np"
   ]
  },
  {
   "cell_type": "code",
   "execution_count": 2,
   "metadata": {},
   "outputs": [],
   "source": [
    "age_data = {\n",
    "    'household_size_distn': {1: 0.1,\n",
    "                             2: 0.15,\n",
    "                             3: 0.3,\n",
    "                             4: 0.3,\n",
    "                             5: 0.1,\n",
    "                             6: 0.025,\n",
    "                             7: 0.025},\n",
    "    \n",
    "    'age_distn': {'0-9': 0.197,\n",
    "                  '10-19': 0.181,\n",
    "                  '20-29': 0.135,\n",
    "                  '30-39': 0.123,\n",
    "                  '40-49': 0.121,\n",
    "                  '50-59': 0.084,\n",
    "                  '60-69': 0.081,\n",
    "                  '70-79': 0.050,\n",
    "                  '80+': 0.028}\n",
    "            }"
   ]
  },
  {
   "cell_type": "code",
   "execution_count": 3,
   "metadata": {},
   "outputs": [
    {
     "ename": "NameError",
     "evalue": "name 'household_data' is not defined",
     "output_type": "error",
     "traceback": [
      "\u001b[1;31m---------------------------------------------------------------------------\u001b[0m",
      "\u001b[1;31mNameError\u001b[0m                                 Traceback (most recent call last)",
      "\u001b[1;32m<ipython-input-3-ff7d91888acc>\u001b[0m in \u001b[0;36m<module>\u001b[1;34m\u001b[0m\n\u001b[0;32m      1\u001b[0m \u001b[1;36m0.1\u001b[0m\u001b[1;33m+\u001b[0m\u001b[1;36m0.1\u001b[0m\u001b[1;33m+\u001b[0m\u001b[0mnp\u001b[0m\u001b[1;33m.\u001b[0m\u001b[0msum\u001b[0m\u001b[1;33m(\u001b[0m\u001b[1;36m0.8\u001b[0m\u001b[1;33m*\u001b[0m\u001b[0mnp\u001b[0m\u001b[1;33m.\u001b[0m\u001b[0marray\u001b[0m\u001b[1;33m(\u001b[0m\u001b[1;33m[\u001b[0m\u001b[1;36m0.07\u001b[0m\u001b[1;33m,\u001b[0m\u001b[1;36m0.25\u001b[0m\u001b[1;33m,\u001b[0m\u001b[1;36m0.15\u001b[0m\u001b[1;33m,\u001b[0m\u001b[1;36m0.04\u001b[0m\u001b[1;33m,\u001b[0m\u001b[1;36m0.2\u001b[0m\u001b[1;33m,\u001b[0m\u001b[1;36m0.16\u001b[0m\u001b[1;33m,\u001b[0m\u001b[1;36m0.13\u001b[0m\u001b[1;33m]\u001b[0m\u001b[1;33m)\u001b[0m\u001b[1;33m)\u001b[0m\u001b[1;33m\u001b[0m\u001b[1;33m\u001b[0m\u001b[0m\n\u001b[1;32m----> 2\u001b[1;33m \u001b[0mages_all\u001b[0m\u001b[1;33m=\u001b[0m\u001b[0mnp\u001b[0m\u001b[1;33m.\u001b[0m\u001b[0marray\u001b[0m\u001b[1;33m(\u001b[0m\u001b[0mlist\u001b[0m\u001b[1;33m(\u001b[0m\u001b[0mhousehold_data\u001b[0m\u001b[1;33m[\u001b[0m\u001b[1;34m'age_distn'\u001b[0m\u001b[1;33m]\u001b[0m\u001b[1;33m.\u001b[0m\u001b[0mitems\u001b[0m\u001b[1;33m(\u001b[0m\u001b[1;33m)\u001b[0m\u001b[1;33m)\u001b[0m\u001b[1;33m)\u001b[0m\u001b[1;33m\u001b[0m\u001b[1;33m\u001b[0m\u001b[0m\n\u001b[0m\u001b[0;32m      3\u001b[0m \u001b[0mprint\u001b[0m\u001b[1;33m(\u001b[0m\u001b[0mages_all\u001b[0m\u001b[1;33m[\u001b[0m\u001b[1;33m:\u001b[0m\u001b[1;33m,\u001b[0m\u001b[1;36m1\u001b[0m\u001b[1;33m]\u001b[0m\u001b[1;33m.\u001b[0m\u001b[0mastype\u001b[0m\u001b[1;33m(\u001b[0m\u001b[0mfloat\u001b[0m\u001b[1;33m)\u001b[0m\u001b[1;33m*\u001b[0m\u001b[1;36m1000\u001b[0m\u001b[1;33m)\u001b[0m\u001b[1;33m\u001b[0m\u001b[1;33m\u001b[0m\u001b[0m\n",
      "\u001b[1;31mNameError\u001b[0m: name 'household_data' is not defined"
     ]
    }
   ],
   "source": [
    "0.1+0.1+np.sum(0.8*np.array([0.07,0.25,0.15,0.04,0.2,0.16,0.13]))\n",
    "ages_all=np.array(list(household_data['age_distn'].items()))\n",
    "print(ages_all[:,1].astype(float)*1000)"
   ]
  },
  {
   "cell_type": "code",
   "execution_count": null,
   "metadata": {},
   "outputs": [],
   "source": [
    "print('0-9',1000*(0.12*0.95+0.16*0.5+0.128*0.5+0.104*0.5))\n",
    "\n",
    "print('10-19',1000*(0.12*0.05+0.032*1.0+0.16*0.5+0.128*0.5+0.104*0.5))\n",
    "      \n",
    "print('20-29',1000*(0.1*0.4+0.1+0.12*0.4+0.16*0.05))\n",
    "\n",
    "print('30-39',1000*(0.056*0.2+0.12*0.6+0.0322*0.2+0.16*0.4+0.128*0.2+0.104*0.1))\n",
    "\n",
    "print('40-49',1000*(0.056*0.2+0.12*0.6+0.0322*0.2+0.16*0.4+0.128*0.2+0.104*0.1))"
   ]
  },
  {
   "cell_type": "code",
   "execution_count": null,
   "metadata": {},
   "outputs": [],
   "source": [
    "(0.07243*0.9+0.07243*0.1+0.0968224+0.2+0.1442355+0.0320028+0.185514+0.1482112+0.1205841++0.000200000000000089)"
   ]
  },
  {
   "cell_type": "code",
   "execution_count": 131,
   "metadata": {},
   "outputs": [],
   "source": [
    "alone_parma=0.25\n",
    "couples_without_kids_param=0.8\n",
    "kids_left_house_p=0.45\n",
    "old_kids=0.3\n",
    "two_kids_young=0.35\n",
    "two_kids_old =0.05\n",
    "\n",
    "three_kids_young=0.37\n",
    "three_kids_old =0.1\n",
    "\n",
    "four_kids_young=0.37\n",
    "four_kids_old =0.1\n",
    "\n",
    "household_data = {\n",
    "    'alone': {0.09243*0.9:[0,0,alone_parma,0,0,0*(1-alone_parma)/8,2*(1-alone_parma)/4,1*(1-alone_parma)/4,1*(1-alone_parma)/4]},\n",
    "    'students_app': {0.09243*0.1:[0,0,1,0,0,0,0,0,0]},\n",
    "    'couples_without_kids':  {0.0968224:[0,0,couples_without_kids_param,1-couples_without_kids_param,0,0,0,0,0]},\n",
    "    'couples_kids_left_the_house':  {0.17:[0,0,0,0,0,kids_left_house_p,(1-kids_left_house_p)/2,3*(1-kids_left_house_p)/8,1*(1-kids_left_house_p)/8]},\n",
    "    'couples_with_one_young_kid':{0.1042355:[0.7,0.3,0.5,0.5,0,0,0,0,0]},\n",
    "    'couples_with_one_old_kid':{0.0100028+0.000200000000000089:[0.0,1.0,0.0,old_kids,1-old_kids,0,0,0,0]},\n",
    "    'couples_with_two_kid':{0.195514:[0.51,0.49,0,two_kids_young,1-two_kids_young-two_kids_old,two_kids_old,0,0,0]},\n",
    "    'couples_with_three_kid':{0.1882112:[0.51,0.49,0,three_kids_young,1-three_kids_old-three_kids_young,three_kids_old,0,0,0]},\n",
    "    'couples_with_four_kid_pluse':{0.1605841:[0.51,0.49,0,three_kids_young,1-three_kids_old-three_kids_young,three_kids_old,0,0,0]},\n",
    "            }"
   ]
  },
  {
   "cell_type": "code",
   "execution_count": 132,
   "metadata": {},
   "outputs": [],
   "source": [
    "Count = {\n",
    "    'alone': [],\n",
    "    'students_app': [],\n",
    "    'couples_without_kids': [],\n",
    "    'couples_kids_left_the_house': [],\n",
    "    'couples_with_one_young_kid':[],\n",
    "    'couples_with_one_old_kid':[],\n",
    "    'couples_with_two_kid':[],\n",
    "    'couples_with_three_kid':[],\n",
    "    'couples_with_four_kid_pluse':[],\n",
    "            }"
   ]
  },
  {
   "cell_type": "code",
   "execution_count": 133,
   "metadata": {},
   "outputs": [
    {
     "name": "stderr",
     "output_type": "stream",
     "text": [
      "<ipython-input-133-11e9d92d5bd5>:4: VisibleDeprecationWarning: Creating an ndarray from ragged nested sequences (which is a list-or-tuple of lists-or-tuples-or ndarrays with different lengths or shapes) is deprecated. If you meant to do this, you must specify 'dtype=object' when creating the ndarray\n",
      "  precent_group= np.array(list(values.items()))[:,0][0]\n",
      "<ipython-input-133-11e9d92d5bd5>:5: VisibleDeprecationWarning: Creating an ndarray from ragged nested sequences (which is a list-or-tuple of lists-or-tuples-or ndarrays with different lengths or shapes) is deprecated. If you meant to do this, you must specify 'dtype=object' when creating the ndarray\n",
      "  p_ages=np.array(list(values.items()))[:,1][0]\n"
     ]
    }
   ],
   "source": [
    "N=1000000\n",
    "number_of_people_array= [1,3,2,2,3,3,4,5,8]\n",
    "for num,(key,values) in enumerate(household_data.items()):\n",
    "    precent_group= np.array(list(values.items()))[:,0][0]\n",
    "    p_ages=np.array(list(values.items()))[:,1][0]\n",
    "    keys_ages=age_data['age_distn'].keys()\n",
    "    \n",
    "    number_of_people=N*precent_group\n",
    "    num_of_people_in_house=number_of_people_array[num]\n",
    "    num_parents=2\n",
    "    num_kids=num_of_people_in_house-num_parents\n",
    "    if num<4:\n",
    "        choise=np.random.choice(list(keys_ages), p=p_ages,size=int(number_of_people))\n",
    "        Count[key].append(choise)\n",
    "    else:\n",
    "        kids_amount=int((num_kids/num_of_people_in_house)*number_of_people)\n",
    "        kids_choise=np.random.choice(list(keys_ages)[:2], p=p_ages[:2],size=kids_amount)\n",
    "        adults_choise=np.random.choice(list(keys_ages)[2:], p=p_ages[2:],size=int(number_of_people-kids_amount))\n",
    "        Count[key].append(np.array(list(kids_choise)+list(adults_choise)))\n",
    "        "
   ]
  },
  {
   "cell_type": "code",
   "execution_count": 134,
   "metadata": {},
   "outputs": [
    {
     "name": "stdout",
     "output_type": "stream",
     "text": [
      "(1, 83187)\n",
      "(1, 9243)\n",
      "(1, 96822)\n",
      "(1, 170000)\n",
      "(1, 104235)\n",
      "(1, 10202)\n",
      "(1, 195514)\n",
      "(1, 188211)\n",
      "(1, 160584)\n"
     ]
    }
   ],
   "source": [
    "Count_2 = {'0-9': 0,\n",
    "                  '10-19': 0,\n",
    "                  '20-29': 0,\n",
    "                  '30-39': 0,\n",
    "                  '40-49': 0,\n",
    "                  '50-59': 0,\n",
    "                  '60-69': 0,\n",
    "                  '70-79': 0,\n",
    "                  '80+': 0\n",
    "        }\n",
    "            \n",
    "for num,(keys,values) in enumerate(Count.items()):\n",
    "    print(np.array(values).shape)\n",
    "    for i in np.squeeze(values):\n",
    "        Count_2[i]+=1"
   ]
  },
  {
   "cell_type": "code",
   "execution_count": 135,
   "metadata": {
    "scrolled": true
   },
   "outputs": [],
   "source": [
    "values_all=np.array(list(Count_2.items()))[:,1]"
   ]
  },
  {
   "cell_type": "code",
   "execution_count": 136,
   "metadata": {},
   "outputs": [
    {
     "data": {
      "text/plain": [
       "array([197000., 181000., 135000., 123000., 121000.,  84000.,  81000.,\n",
       "        50000.,  28000.])"
      ]
     },
     "execution_count": 136,
     "metadata": {},
     "output_type": "execute_result"
    }
   ],
   "source": [
    "0.1+0.1+np.sum(0.8*np.array([0.07,0.25,0.15,0.04,0.2,0.16,0.13]))\n",
    "ages_all=np.array(list(age_data['age_distn'].items()))\n",
    "number_all=ages_all[:,1].astype(float)*1000000\n",
    "number_all"
   ]
  },
  {
   "cell_type": "code",
   "execution_count": 137,
   "metadata": {},
   "outputs": [
    {
     "data": {
      "text/plain": [
       "array([-2.04923858, -2.59502762,  5.22444444,  8.1495935 ,  3.21570248,\n",
       "       10.79761905, -3.82592593,  0.802     , -2.17142857])"
      ]
     },
     "execution_count": 137,
     "metadata": {},
     "output_type": "execute_result"
    }
   ],
   "source": [
    "((values_all.astype(int)-number_all)/number_all)*100"
   ]
  },
  {
   "cell_type": "code",
   "execution_count": null,
   "metadata": {},
   "outputs": [],
   "source": [
    "alone (0.1):\n",
    "0.4 : 25-29 \n",
    "0.6 : 60+ \n",
    "alone_with_others (0.1):\n",
    "1: 20-29\n",
    "\n",
    "couples_without_kids (0.056)\n",
    "20-29 : 0.8\n",
    "30-39 : 0.2\n",
    "    \n",
    "couples_kids_left_the_house (0.2)\n",
    "50-59:0.5 \n",
    "60-69:0.9\n",
    "70-79:0.9\n",
    "80+:0.9\n",
    "\n",
    "couples_with_one_young_kid(0.12)\n",
    "'20-29': 0.4\n",
    "'30-39': 0.6\n",
    "'0-9': 0.95\n",
    "'10-19': 0.05\n",
    "    \n",
    "couples_with_old_kid(0.032)\n",
    "'30-39': 0.2\n",
    "'40-49': 0.8\n",
    "\n",
    "'10-19': 1.0\n",
    "\n",
    "couples_with_two_kid(0.16)\n",
    "'20-29': 0.05\n",
    "'30-39': 0.4\n",
    "'40-49': 0.5\n",
    "'50-59': 0.05\n",
    "\n",
    "'0-9': 0.5\n",
    "'10-19': 0.5\n",
    "    \n",
    "couples_with_three_kid(0.128)\n",
    "\n",
    "'30-39': 0.2\n",
    "'40-49': 0.4\n",
    "'50-59': 0.4\n",
    "\n",
    "'0-9': 0.5\n",
    "'10-19': 0.5 \n",
    "\n",
    "couples_with_four_kid_pluse(0.104)\n",
    "'30-39': 0.1\n",
    "'40-49': 0.5\n",
    "'50-59': 0.4\n",
    "'0-9': 0.5\n",
    "'10-19': 0.5 "
   ]
  }
 ],
 "metadata": {
  "kernelspec": {
   "display_name": "Python 3",
   "language": "python",
   "name": "python3"
  },
  "language_info": {
   "codemirror_mode": {
    "name": "ipython",
    "version": 3
   },
   "file_extension": ".py",
   "mimetype": "text/x-python",
   "name": "python",
   "nbconvert_exporter": "python",
   "pygments_lexer": "ipython3",
   "version": "3.8.5"
  }
 },
 "nbformat": 4,
 "nbformat_minor": 4
}
