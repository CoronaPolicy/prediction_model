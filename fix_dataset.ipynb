{
 "cells": [
  {
   "cell_type": "code",
   "execution_count": 1,
   "id": "downtown-carrier",
   "metadata": {},
   "outputs": [],
   "source": [
    "import numpy as np \n",
    "import pandas as pd\n",
    "from matplotlib import pyplot as plt\n",
    "from datetime import datetime\n"
   ]
  },
  {
   "cell_type": "code",
   "execution_count": 2,
   "id": "promotional-faith",
   "metadata": {},
   "outputs": [],
   "source": [
    "should_save_data = False\n",
    "n_times = 5"
   ]
  },
  {
   "cell_type": "code",
   "execution_count": 3,
   "id": "utility-directory",
   "metadata": {},
   "outputs": [],
   "source": [
    "data_ox = pd.read_csv(\"OxCGRT_march_21_2021.csv\",low_memory=False)\n",
    "data_owid = pd.read_csv(\"owid-covid-data_march_21_2021.csv\",low_memory=False)"
   ]
  },
  {
   "cell_type": "markdown",
   "id": "quality-raising",
   "metadata": {},
   "source": [
    "### data_ox include the oxford data base which include: "
   ]
  },
  {
   "cell_type": "code",
   "execution_count": 4,
   "id": "latter-fifth",
   "metadata": {},
   "outputs": [
    {
     "data": {
      "text/plain": [
       "Index(['CountryName', 'CountryCode', 'RegionName', 'RegionCode',\n",
       "       'Jurisdiction', 'Date', 'C1_School closing', 'C1_Flag',\n",
       "       'C2_Workplace closing', 'C2_Flag', 'C3_Cancel public events', 'C3_Flag',\n",
       "       'C4_Restrictions on gatherings', 'C4_Flag', 'C5_Close public transport',\n",
       "       'C5_Flag', 'C6_Stay at home requirements', 'C6_Flag',\n",
       "       'C7_Restrictions on internal movement', 'C7_Flag',\n",
       "       'C8_International travel controls', 'E1_Income support', 'E1_Flag',\n",
       "       'E2_Debt/contract relief', 'E3_Fiscal measures',\n",
       "       'E4_International support', 'H1_Public information campaigns',\n",
       "       'H1_Flag', 'H2_Testing policy', 'H3_Contact tracing',\n",
       "       'H4_Emergency investment in healthcare', 'H5_Investment in vaccines',\n",
       "       'H6_Facial Coverings', 'H6_Flag', 'H7_Vaccination policy', 'H7_Flag',\n",
       "       'H8_Protection of elderly people', 'H8_Flag', 'M1_Wildcard',\n",
       "       'ConfirmedCases', 'ConfirmedDeaths', 'StringencyIndex',\n",
       "       'StringencyIndexForDisplay', 'StringencyLegacyIndex',\n",
       "       'StringencyLegacyIndexForDisplay', 'GovernmentResponseIndex',\n",
       "       'GovernmentResponseIndexForDisplay', 'ContainmentHealthIndex',\n",
       "       'ContainmentHealthIndexForDisplay', 'EconomicSupportIndex',\n",
       "       'EconomicSupportIndexForDisplay'],\n",
       "      dtype='object')"
      ]
     },
     "execution_count": 4,
     "metadata": {},
     "output_type": "execute_result"
    }
   ],
   "source": [
    "data_ox.columns"
   ]
  },
  {
   "cell_type": "markdown",
   "id": "subject-hybrid",
   "metadata": {},
   "source": [
    "### Data_owid include the owid data base which include:"
   ]
  },
  {
   "cell_type": "code",
   "execution_count": 5,
   "id": "hawaiian-withdrawal",
   "metadata": {},
   "outputs": [
    {
     "data": {
      "text/plain": [
       "Index(['iso_code', 'continent', 'location', 'date', 'total_cases', 'new_cases',\n",
       "       'new_cases_smoothed', 'total_deaths', 'new_deaths',\n",
       "       'new_deaths_smoothed', 'total_cases_per_million',\n",
       "       'new_cases_per_million', 'new_cases_smoothed_per_million',\n",
       "       'total_deaths_per_million', 'new_deaths_per_million',\n",
       "       'new_deaths_smoothed_per_million', 'reproduction_rate', 'icu_patients',\n",
       "       'icu_patients_per_million', 'hosp_patients',\n",
       "       'hosp_patients_per_million', 'weekly_icu_admissions',\n",
       "       'weekly_icu_admissions_per_million', 'weekly_hosp_admissions',\n",
       "       'weekly_hosp_admissions_per_million', 'new_tests', 'total_tests',\n",
       "       'total_tests_per_thousand', 'new_tests_per_thousand',\n",
       "       'new_tests_smoothed', 'new_tests_smoothed_per_thousand',\n",
       "       'positive_rate', 'tests_per_case', 'tests_units', 'total_vaccinations',\n",
       "       'people_vaccinated', 'people_fully_vaccinated', 'new_vaccinations',\n",
       "       'new_vaccinations_smoothed', 'total_vaccinations_per_hundred',\n",
       "       'people_vaccinated_per_hundred', 'people_fully_vaccinated_per_hundred',\n",
       "       'new_vaccinations_smoothed_per_million', 'stringency_index',\n",
       "       'population', 'population_density', 'median_age', 'aged_65_older',\n",
       "       'aged_70_older', 'gdp_per_capita', 'extreme_poverty',\n",
       "       'cardiovasc_death_rate', 'diabetes_prevalence', 'female_smokers',\n",
       "       'male_smokers', 'handwashing_facilities', 'hospital_beds_per_thousand',\n",
       "       'life_expectancy', 'human_development_index'],\n",
       "      dtype='object')"
      ]
     },
     "execution_count": 5,
     "metadata": {},
     "output_type": "execute_result"
    }
   ],
   "source": [
    "data_owid.columns"
   ]
  },
  {
   "cell_type": "markdown",
   "id": "hindu-giant",
   "metadata": {},
   "source": [
    "####  The table should be: \n",
    "\n",
    "#### State: (26 features)\n",
    "\n",
    "###### Geographic and general state( 9 features): \n",
    "(1) CountryName,  <br />\n",
    "(2) Date,  <br />\n",
    "(3) population,  <br />\n",
    "(4) population_density,  <br />\n",
    "(5) median_age,  <br />\n",
    "(6) gdp_per_capita,  <br />\n",
    "(7) aged_65_older/population,  <br />\n",
    "(8) life_expectancy,  <br />\n",
    "(9)human_development_index. <br />\n",
    "\n",
    "###### Corona state (9 features): \n",
    "(1) total_cases per million, <br />\n",
    "(2)total_deaths per million, <br />\n",
    "(3) new_cases_per_million, <br />\n",
    "(4) new_deaths_per_million,<br />\n",
    "(5) new_tests_per_thousand, <br />\n",
    "(6) positive_rate, <br />\n",
    "(7) people_fully_vaccinated_per_hundred, <br />\n",
    "(8)icu_patients_per_million, <br />\n",
    "(9) StringencyIndex(oxford) <br />\n",
    "\n",
    "###### Health care state (6 features):  \n",
    "(1) cardiovasc_death_rate, <br />\n",
    "(2) diabetes_prevalence, <br />\n",
    "(3) female_smokers+ male_smokers/population,<br />\n",
    "(4) hospital_beds_per_thousand, <br />\n",
    "(5) hosp_patients_per_million, <br />\n",
    "(6) icu_patients_per_million. <br />\n",
    "\n",
    "\n",
    "#### Policy: ( 23 features )\n",
    "(1) C1_School closing,         + 0.5 X(2)  C1_flag <br />\n",
    "(3) C2_Workplace closing,      + 0.5 X (4)  C2_flag <br />\n",
    "(5) C3_Cancel public events,   + 0.5 X (6)  C3_flag <br />\n",
    "(7) C4_Restrictions on gatherings,+  0.5X (8)  C4_flag <br />\n",
    "(9) C5_Close public transport,    + 0.5X(10) C5_flag  <br />\n",
    "(11) C6_Stay at home requirements, + 0.5X (12) C6_Flag <br />\n",
    "(13) C7_Restrictions on internal movement +0.5X(14) C7_Flag <br />\n",
    "(15) C8_International travel controls, +0.5X(16)C8_Flag  <br />\n",
    "(17) H1_Public information campaigns, +0.5X(18)H1_Flag <br />\n",
    "(19) H2_Testing policy, +0.5X (20) H2_Flag <br />\n",
    "(21) H6_Facial Coverings, +0.5X(22) H6_Flag <br />\n",
    "(23) C9_Vaccinate_n precetage of the population (new_vaccinations[t+1]/population) <br />\n"
   ]
  },
  {
   "cell_type": "markdown",
   "id": "advance-symposium",
   "metadata": {},
   "source": [
    "### seir models:"
   ]
  },
  {
   "cell_type": "markdown",
   "id": "abroad-postcard",
   "metadata": {},
   "source": [
    "![image info](./images/SEIR-SEIRS.png)"
   ]
  },
  {
   "cell_type": "markdown",
   "id": "administrative-proposal",
   "metadata": {},
   "source": [
    "####  (1)"
   ]
  },
  {
   "cell_type": "markdown",
   "id": "native-equilibrium",
   "metadata": {},
   "source": [
    "\\begin{split}\\begin{aligned}\n",
    "\\frac{dS}{dt} & = -\\frac{\\beta SI}{N}\\\\\n",
    "\\frac{dE}{dt} & = \\frac{\\beta SI}{N} - \\sigma E\\\\\n",
    "\\frac{dI}{dt} & = \\sigma E - \\gamma I\\\\\n",
    "\\frac{dR}{dt} & = \\gamma I\n",
    "\\end{aligned}\\end{split}"
   ]
  },
  {
   "cell_type": "markdown",
   "id": "discrete-sudan",
   "metadata": {},
   "source": [
    "### We want to learn:\n",
    "\\begin{equation}\n",
    "\\begin{split}\n",
    "& \\beta - \\textrm{Rate of spread, the probability of transmitting disease between a susceptible and an infectious individual } \\\\ \n",
    "& \\sigma - \\textrm{incubation rate, the rate of latent individuals becoming infectious} \\\\ \n",
    "& \\gamma - \\textrm{Recovery rate, = 1/D, is determined by the average duration, D, of infection}  \\\\ \n",
    "& \\xi - \\textrm{rate which recovered individuals return to the susceptible state} \\\\ \n",
    "\\end{split}\n",
    "\\end{equation}"
   ]
  },
  {
   "cell_type": "markdown",
   "id": "billion-delhi",
   "metadata": {},
   "source": [
    "#### (2) SEIR with vital dynamics: (enabling vital dynamics (births and deaths) )"
   ]
  },
  {
   "cell_type": "markdown",
   "id": "cordless-transsexual",
   "metadata": {},
   "source": [
    "\\begin{split}\\begin{aligned}\n",
    "\\frac{dS}{dt} & = \\mu N - \\nu S - \\frac{\\beta SI}{N}\\\\\n",
    "\\frac{dE}{dt} & = \\frac{\\beta SI}{N} - \\nu E - \\sigma E\\\\\n",
    "\\frac{dI}{dt} & = \\sigma E - \\gamma I - \\nu I\\\\\n",
    "\\frac{dR}{dt} & = \\gamma I - \\nu R\n",
    "\\end{aligned}\\end{split}"
   ]
  },
  {
   "cell_type": "markdown",
   "id": "metropolitan-concentration",
   "metadata": {},
   "source": [
    "### Addition:\n",
    "\\begin{equation}\n",
    "\\begin{split}\n",
    "& \\mu - \\textrm{birth rate } \\\\ \n",
    "& \\nu - \\textrm{death rates} \\\\ \n",
    "\\end{split}\n",
    "\\end{equation}"
   ]
  },
  {
   "cell_type": "markdown",
   "id": "senior-lodge",
   "metadata": {},
   "source": [
    "### The output: \n",
    "\\begin{equation}\n",
    "\\begin{split}\n",
    "& S- \\textrm{susceptible population} \\\\\n",
    "& I - \\textrm{infected}, \\\\\n",
    "& R - \\textrm{removed population (either by death or recovery)}\\\\\n",
    "& N = S+I+R\n",
    "\\end{split}\n",
    "\\end{equation}"
   ]
  },
  {
   "cell_type": "code",
   "execution_count": 6,
   "id": "hazardous-failure",
   "metadata": {},
   "outputs": [],
   "source": [
    "data_owid.date = pd.to_datetime(data_owid['date'],format='%Y-%m-%d')\n",
    "data_ox.Date = pd.to_datetime(data_ox['Date'],format='%Y%m%d')"
   ]
  },
  {
   "cell_type": "code",
   "execution_count": 7,
   "id": "developmental-suspension",
   "metadata": {},
   "outputs": [],
   "source": [
    "data_ox = data_ox[data_ox.RegionName.isna()]"
   ]
  },
  {
   "cell_type": "code",
   "execution_count": 8,
   "id": "offshore-bedroom",
   "metadata": {},
   "outputs": [
    {
     "data": {
      "text/plain": [
       "Index(['CountryName', 'CountryCode', 'RegionName', 'RegionCode',\n",
       "       'Jurisdiction', 'Date', 'C1_School closing', 'C1_Flag',\n",
       "       'C2_Workplace closing', 'C2_Flag', 'C3_Cancel public events', 'C3_Flag',\n",
       "       'C4_Restrictions on gatherings', 'C4_Flag', 'C5_Close public transport',\n",
       "       'C5_Flag', 'C6_Stay at home requirements', 'C6_Flag',\n",
       "       'C7_Restrictions on internal movement', 'C7_Flag',\n",
       "       'C8_International travel controls', 'E1_Income support', 'E1_Flag',\n",
       "       'E2_Debt/contract relief', 'E3_Fiscal measures',\n",
       "       'E4_International support', 'H1_Public information campaigns',\n",
       "       'H1_Flag', 'H2_Testing policy', 'H3_Contact tracing',\n",
       "       'H4_Emergency investment in healthcare', 'H5_Investment in vaccines',\n",
       "       'H6_Facial Coverings', 'H6_Flag', 'H7_Vaccination policy', 'H7_Flag',\n",
       "       'H8_Protection of elderly people', 'H8_Flag', 'M1_Wildcard',\n",
       "       'ConfirmedCases', 'ConfirmedDeaths', 'StringencyIndex',\n",
       "       'StringencyIndexForDisplay', 'StringencyLegacyIndex',\n",
       "       'StringencyLegacyIndexForDisplay', 'GovernmentResponseIndex',\n",
       "       'GovernmentResponseIndexForDisplay', 'ContainmentHealthIndex',\n",
       "       'ContainmentHealthIndexForDisplay', 'EconomicSupportIndex',\n",
       "       'EconomicSupportIndexForDisplay'],\n",
       "      dtype='object')"
      ]
     },
     "execution_count": 8,
     "metadata": {},
     "output_type": "execute_result"
    }
   ],
   "source": [
    "data_ox.columns"
   ]
  },
  {
   "cell_type": "markdown",
   "id": "alpha-batch",
   "metadata": {},
   "source": [
    "### Actions data base data_ox"
   ]
  },
  {
   "cell_type": "code",
   "execution_count": 9,
   "id": "exempt-airport",
   "metadata": {},
   "outputs": [],
   "source": [
    "data_ox=data_ox.replace(np.nan, 0)"
   ]
  },
  {
   "cell_type": "code",
   "execution_count": 10,
   "id": "devoted-hours",
   "metadata": {},
   "outputs": [],
   "source": [
    "data_ox['C1_index']=(data_ox['C1_School closing']+0.5*data_ox['C1_Flag'])*2\n",
    "data_ox['C2_index']=(data_ox['C2_Workplace closing']+0.5*data_ox['C2_Flag'])*2\n",
    "data_ox['C3_index']=(data_ox['C3_Cancel public events']+0.5*data_ox['C3_Flag'])*2\n",
    "data_ox['C4_index']=(data_ox['C4_Restrictions on gatherings']+0.5*data_ox['C4_Flag'])*2\n",
    "data_ox['C5_index']=(data_ox['C5_Close public transport']+0.5*data_ox['C5_Flag'])*2\n",
    "data_ox['C6_index']=(data_ox['C6_Stay at home requirements']+0.5*data_ox['C6_Flag'])*2\n",
    "data_ox['C7_index']=(data_ox['C7_Restrictions on internal movement']+0.5*data_ox['C7_Flag'])*2\n",
    "data_ox['C8_index']= data_ox['C8_International travel controls']\n",
    "data_ox['H1_index']=(data_ox['H1_Public information campaigns']+0.5*data_ox['H1_Flag'])*2\n",
    "data_ox['H6_index']=(data_ox['H6_Facial Coverings']+0.5*data_ox['H6_Flag'])*2\n",
    "data_ox['H8_index']=(data_ox['H8_Protection of elderly people']+0.5*data_ox['H8_Flag'])*2\n",
    "\n",
    "\n",
    "#data_ox['C9_index'] ----> need the other data base to be done...\n",
    "\n",
    "data_ox=data_ox.drop(columns=[\n",
    "            'C1_School closing','C2_Workplace closing','C3_Cancel public events','C4_Restrictions on gatherings'\n",
    "            ,'C5_Close public transport', 'C6_Stay at home requirements', 'C7_Restrictions on internal movement',\n",
    "            'C8_International travel controls','H1_Public information campaigns','H6_Facial Coverings', \n",
    "            'C1_Flag','C2_Flag','C3_Flag','C4_Flag','C5_Flag','C6_Flag','C7_Flag', 'H1_Flag','H6_Flag'\n",
    "            ])\n",
    "\n",
    "# Delete economic staff\n",
    "data_ox=data_ox.drop(columns=[\n",
    "       'E2_Debt/contract relief', 'E3_Fiscal measures',\n",
    "       'E4_International support', 'H2_Testing policy', 'H3_Contact tracing',\n",
    "       'H4_Emergency investment in healthcare', 'H5_Investment in vaccines',\n",
    "       'H7_Vaccination policy', 'H7_Flag','H8_Protection of elderly people', 'H8_Flag',\n",
    "       'M1_Wildcard', 'StringencyIndexForDisplay',\n",
    "       'StringencyLegacyIndex', 'StringencyLegacyIndexForDisplay',\n",
    "       'GovernmentResponseIndex', 'GovernmentResponseIndexForDisplay',\n",
    "        'ContainmentHealthIndexForDisplay',\n",
    "       'EconomicSupportIndex', 'EconomicSupportIndexForDisplay','Jurisdiction',\n",
    "       'E1_Income support', 'E1_Flag',\n",
    "        'CountryName', 'RegionName', 'RegionCode'\n",
    "            ])\n"
   ]
  },
  {
   "cell_type": "code",
   "execution_count": 11,
   "id": "chronic-overview",
   "metadata": {},
   "outputs": [],
   "source": [
    "if should_save_data:\n",
    "    data_ox.to_csv('modified_Oxford.csv', index=False) "
   ]
  },
  {
   "cell_type": "code",
   "execution_count": 12,
   "id": "black-pennsylvania",
   "metadata": {},
   "outputs": [],
   "source": [
    "data_ox = data_ox.rename(columns={'CountryCode': 'iso_code', \n",
    "                                  'Date':'date', \n",
    "                                  'ConfirmedCases':'total_cases',\n",
    "                                  'ConfirmedDeaths':'total_deaths'})"
   ]
  },
  {
   "cell_type": "code",
   "execution_count": 13,
   "id": "liked-federal",
   "metadata": {},
   "outputs": [
    {
     "data": {
      "text/plain": [
       "Index(['iso_code', 'date', 'total_cases', 'total_deaths', 'StringencyIndex',\n",
       "       'ContainmentHealthIndex', 'C1_index', 'C2_index', 'C3_index',\n",
       "       'C4_index', 'C5_index', 'C6_index', 'C7_index', 'C8_index', 'H1_index',\n",
       "       'H6_index', 'H8_index'],\n",
       "      dtype='object')"
      ]
     },
     "execution_count": 13,
     "metadata": {},
     "output_type": "execute_result"
    }
   ],
   "source": [
    "data_ox.columns"
   ]
  },
  {
   "cell_type": "markdown",
   "id": "sticky-hypothetical",
   "metadata": {},
   "source": [
    "#### Creating Geographic and General State:"
   ]
  },
  {
   "cell_type": "code",
   "execution_count": 14,
   "id": "preceding-sailing",
   "metadata": {},
   "outputs": [],
   "source": [
    "data_owid=data_owid.drop(columns=[\n",
    "        'location', 'continent', 'total_cases', 'new_cases',\n",
    "       'new_cases_smoothed', 'total_deaths', 'new_deaths',\n",
    "       'new_deaths_smoothed',\n",
    "       'new_cases_smoothed_per_million',\n",
    "       'new_deaths_smoothed_per_million', 'reproduction_rate', 'icu_patients',\n",
    "        'hosp_patients',\n",
    "        'weekly_icu_admissions',\n",
    "       'weekly_icu_admissions_per_million', 'weekly_hosp_admissions',\n",
    "       'weekly_hosp_admissions_per_million', 'new_tests', 'total_tests',\n",
    "       'total_tests_per_thousand', \n",
    "       'new_tests_smoothed', 'new_tests_smoothed_per_thousand',\n",
    "       'tests_per_case', 'tests_units', 'total_vaccinations',\n",
    "       'people_vaccinated', 'people_fully_vaccinated', 'new_vaccinations',\n",
    "       'total_vaccinations_per_hundred',\n",
    "       'people_vaccinated_per_hundred',\n",
    "       'new_vaccinations_smoothed_per_million', 'stringency_index',\n",
    "       'aged_70_older', 'extreme_poverty',\n",
    "        'handwashing_facilities'\n",
    "            ])"
   ]
  },
  {
   "cell_type": "code",
   "execution_count": 15,
   "id": "involved-trigger",
   "metadata": {},
   "outputs": [
    {
     "data": {
      "text/plain": [
       "Index(['iso_code', 'date', 'total_cases_per_million', 'new_cases_per_million',\n",
       "       'total_deaths_per_million', 'new_deaths_per_million',\n",
       "       'icu_patients_per_million', 'hosp_patients_per_million',\n",
       "       'new_tests_per_thousand', 'positive_rate', 'new_vaccinations_smoothed',\n",
       "       'people_fully_vaccinated_per_hundred', 'population',\n",
       "       'population_density', 'median_age', 'aged_65_older', 'gdp_per_capita',\n",
       "       'cardiovasc_death_rate', 'diabetes_prevalence', 'female_smokers',\n",
       "       'male_smokers', 'hospital_beds_per_thousand', 'life_expectancy',\n",
       "       'human_development_index'],\n",
       "      dtype='object')"
      ]
     },
     "execution_count": 15,
     "metadata": {},
     "output_type": "execute_result"
    }
   ],
   "source": [
    "data_owid.columns"
   ]
  },
  {
   "cell_type": "code",
   "execution_count": 16,
   "id": "norman-person",
   "metadata": {},
   "outputs": [],
   "source": [
    "data_owid=data_owid.replace(np.nan, 0)\n",
    "data_owid['smokers'] = data_owid['male_smokers']+data_owid['female_smokers']\n",
    "data_owid = data_owid.drop(columns = ['male_smokers', 'female_smokers'])"
   ]
  },
  {
   "cell_type": "code",
   "execution_count": 17,
   "id": "driven-humanity",
   "metadata": {},
   "outputs": [
    {
     "data": {
      "text/plain": [
       "Index(['iso_code', 'date', 'total_cases_per_million', 'new_cases_per_million',\n",
       "       'total_deaths_per_million', 'new_deaths_per_million',\n",
       "       'icu_patients_per_million', 'hosp_patients_per_million',\n",
       "       'new_tests_per_thousand', 'positive_rate', 'new_vaccinations_smoothed',\n",
       "       'people_fully_vaccinated_per_hundred', 'population',\n",
       "       'population_density', 'median_age', 'aged_65_older', 'gdp_per_capita',\n",
       "       'cardiovasc_death_rate', 'diabetes_prevalence',\n",
       "       'hospital_beds_per_thousand', 'life_expectancy',\n",
       "       'human_development_index', 'smokers'],\n",
       "      dtype='object')"
      ]
     },
     "execution_count": 17,
     "metadata": {},
     "output_type": "execute_result"
    }
   ],
   "source": [
    "data_owid.columns"
   ]
  },
  {
   "cell_type": "code",
   "execution_count": 18,
   "id": "bulgarian-narrative",
   "metadata": {},
   "outputs": [],
   "source": [
    "data_owid.to_csv('modified_owid.csv', index=False)"
   ]
  },
  {
   "cell_type": "markdown",
   "id": "executed-penny",
   "metadata": {},
   "source": [
    "## combine databases"
   ]
  },
  {
   "cell_type": "code",
   "execution_count": 19,
   "id": "pleased-scholarship",
   "metadata": {},
   "outputs": [],
   "source": [
    "data_combined = pd.merge(data_owid, data_ox, how='inner', left_on=['iso_code', 'date'], right_on = ['iso_code', 'date'])"
   ]
  },
  {
   "cell_type": "code",
   "execution_count": 20,
   "id": "still-sender",
   "metadata": {},
   "outputs": [],
   "source": [
    "geographic_columns = ['iso_code', \n",
    "                     'date',\n",
    "                     'population',\n",
    "                     'population_density',\n",
    "                     'median_age',\n",
    "                     'gdp_per_capita',\n",
    "                     'aged_65_older',\n",
    "                     'life_expectancy',\n",
    "                     'human_development_index']\n",
    "covid_columns = ['iso_code',\n",
    "                'date',\n",
    "                'total_cases_per_million', \n",
    "                'total_cases',\n",
    "                'total_deaths_per_million',\n",
    "                'total_deaths',\n",
    "                'people_fully_vaccinated_per_hundred',\n",
    "                'hosp_patients_per_million',\n",
    "                'icu_patients_per_million',\n",
    "                'new_tests_per_thousand',\n",
    "                'new_cases_per_million',\n",
    "                'new_deaths_per_million',                \n",
    "                'positive_rate',\n",
    "                'StringencyIndex',\n",
    "                'ContainmentHealthIndex']\n",
    "health_columns = ['iso_code',\n",
    "                  'date',\n",
    "                  'cardiovasc_death_rate',\n",
    "                 'smokers',\n",
    "                 'diabetes_prevalence',\n",
    "                 'hospital_beds_per_thousand']\n",
    "policy_columns = ['iso_code',\n",
    "                    'date',\n",
    "                    'C1_index',\n",
    "                    'C2_index',\n",
    "                    'C3_index',\n",
    "                    'C4_index',\n",
    "                    'C5_index',\n",
    "                    'C6_index',\n",
    "                    'C7_index',\n",
    "                    'C8_index',\n",
    "                    'H1_index',\n",
    "                    'H6_index',\n",
    "                    'H8_index',\n",
    "                    'new_vaccinations_smoothed']\n",
    "neighbor_columns = ['iso_code',\n",
    "                   'date',\n",
    "                   'total_cases_per_million',\n",
    "                   'total_deaths_per_million']"
   ]
  },
  {
   "cell_type": "code",
   "execution_count": 21,
   "id": "corresponding-banner",
   "metadata": {},
   "outputs": [],
   "source": [
    "data_geographic = data_combined[geographic_columns]\n",
    "data_covid = data_combined[covid_columns]\n",
    "data_health = data_combined[health_columns]\n",
    "data_policies = data_combined[policy_columns]\n",
    "data_neighbors = data_combined[neighbor_columns]\n",
    "relevant_countires_3 = data_geographic.iso_code.unique()"
   ]
  },
  {
   "cell_type": "code",
   "execution_count": null,
   "id": "offensive-words",
   "metadata": {},
   "outputs": [],
   "source": []
  },
  {
   "cell_type": "markdown",
   "id": "referenced-white",
   "metadata": {},
   "source": [
    "## save all data files"
   ]
  },
  {
   "cell_type": "code",
   "execution_count": 22,
   "id": "confirmed-charleston",
   "metadata": {},
   "outputs": [],
   "source": [
    "if should_save_data:\n",
    "    date = datetime.date(datetime.now())\n",
    "    data_geographic.to_csv(f\"data_geographic_{date}.csv\")\n",
    "    data_covid.to_csv(f\"data_covid_{date}.csv\")\n",
    "    data_health.to_csv(f\"data_health_{date}.csv\")\n",
    "    data_policies.to_csv(f\"data_policies_{date}.csv\")\n",
    "    data_neighbors.to_csv(f\"data_neighbors_{date}.csv\")"
   ]
  },
  {
   "cell_type": "markdown",
   "id": "unauthorized-groove",
   "metadata": {},
   "source": [
    "## create informaiton about distance between countries "
   ]
  },
  {
   "cell_type": "code",
   "execution_count": 23,
   "id": "broken-configuration",
   "metadata": {},
   "outputs": [],
   "source": [
    "distance_matrix = pd.read_csv(\"distance-matrix.csv\")\n",
    "distance_matrix = distance_matrix.rename(columns={'Unnamed: 0':'alpha-2'})"
   ]
  },
  {
   "cell_type": "code",
   "execution_count": 24,
   "id": "overhead-bermuda",
   "metadata": {},
   "outputs": [],
   "source": [
    "country_conversion_data = pd.read_csv(\"country_iso_conversion.csv\")"
   ]
  },
  {
   "cell_type": "code",
   "execution_count": 25,
   "id": "atmospheric-technology",
   "metadata": {},
   "outputs": [],
   "source": [
    "country_conversion_data = country_conversion_data[['alpha-2', 'alpha-3']]"
   ]
  },
  {
   "cell_type": "code",
   "execution_count": 26,
   "id": "documented-monte",
   "metadata": {},
   "outputs": [],
   "source": [
    "relevant_countries = data_geographic['iso_code']\n",
    "merged_geogrpahic_data = pd.merge(relevant_countries, country_conversion_data, how='left', left_on='iso_code', right_on='alpha-3')[['alpha-2', 'alpha-3']]"
   ]
  },
  {
   "cell_type": "code",
   "execution_count": 27,
   "id": "narrative-communication",
   "metadata": {},
   "outputs": [],
   "source": [
    "relevant_countires_2 = merged_geogrpahic_data['alpha-2'].unique()"
   ]
  },
  {
   "cell_type": "code",
   "execution_count": 28,
   "id": "north-operation",
   "metadata": {
    "tags": []
   },
   "outputs": [
    {
     "name": "stdout",
     "output_type": "stream",
     "text": [
      "[ 34  34  49  65 100 131 160 312 325 325 345 350 355 355 356 357 359 361\n",
      " 362 363 364 364 364 364 365 365 366 366 366 366 366 366 366 367 367 367\n",
      " 368 368 368 368 369 369 370 370 370 370 370 371 371 371 372 372 372 372\n",
      " 372 372 372 372 372 372 373 373 373 373 374 374 374 375 375 375 375 375\n",
      " 375 376 376 377 377 377 378 378 379 380 380 380 380 380 380 381 381 382\n",
      " 382 382 382 382 382 383 383 383 384 384 384 385 385 385 385 386 386 387\n",
      " 387 387 387 387 388 389 389 389 389 389 389 390 390 390 390 390 390 390\n",
      " 390 391 391 391 391 391 391 391 392 392 393 394 395 396 398 401 402 408\n",
      " 408 409 411 413 414 414 415 415 415 416 416 416 417 417 419 419 419 420\n",
      " 420 421 421 422 422 423 423 424 424 424 425 430 433 442 445 445]\n",
      "['GRL' 'MAC' 'FRO' 'BMU' 'HKG' 'VUT' 'SLB' 'LSO' 'COM' 'TJK' 'YEM' 'SSD'\n",
      " 'SLE' 'BDI' 'BWA' 'MWI' 'MMR' 'MLI' 'LAO' 'BLZ' 'TLS' 'DMA' 'SYR' 'MOZ'\n",
      " 'ERI' 'UGA' 'CPV' 'AGO' 'PNG' 'HTI' 'ZWE' 'MDG' 'NER' 'TCD' 'SLV' 'NIC'\n",
      " 'MUS' 'ZMB' 'KGZ' 'DJI' 'GMB' 'BRB' 'TZA' 'BHS' 'LBR' 'SOM' 'BEN' 'COG'\n",
      " 'UZB' 'CAF' 'VEN' 'NAM' 'GHA' 'SUR' 'MRT' 'RWA' 'GAB' 'TTO' 'SWZ' 'SYC'\n",
      " 'KAZ' 'GIN' 'ETH' 'URY' 'CUB' 'GUY' 'SDN' 'CIV' 'COD' 'TUR' 'JAM' 'HND'\n",
      " 'BOL' 'BFA' 'MNG' 'CYP' 'BRN' 'PAN' 'BGR' 'MDA' 'PRY' 'BTN' 'SVK' 'CRI'\n",
      " 'KEN' 'COL' 'CMR' 'BIH' 'PSE' 'LIE' 'POL' 'TGO' 'LBY' 'HUN' 'TUN' 'UKR'\n",
      " 'BGD' 'JOR' 'AND' 'IDN' 'SAU' 'PRT' 'AZE' 'ECU' 'DOM' 'MCO' 'QAT' 'SEN'\n",
      " 'NZL' 'NGA' 'LTU' 'BLR' 'SMR' 'ISL' 'SRB' 'ROU' 'GEO' 'BRA' 'CZE' 'DZA'\n",
      " 'AUT' 'IRL' 'EST' 'PAK' 'ALB' 'HRV' 'LVA' 'AFG' 'OMN' 'IRQ' 'NLD' 'KWT'\n",
      " 'BHR' 'LUX' 'NOR' 'CHL' 'GRC' 'LBN' 'ISR' 'IRN' 'GTM' 'EGY' 'DNK' 'ZAF'\n",
      " 'MAR' 'MLT' 'BEL' 'SVN' 'ESP' 'SWE' 'RUS' 'GBR' 'ITA' 'FJI' 'PHL' 'IND'\n",
      " 'FIN' 'ARE' 'KHM' 'DEU' 'LKA' 'AUS' 'CAN' 'NPL' 'MYS' 'FRA' 'CHE' 'SGP'\n",
      " 'VNM' 'CHN' 'USA' 'JPN' 'KOR' 'TWN' 'PER' 'THA' 'MEX' 'ARG']\n"
     ]
    },
    {
     "data": {
      "text/plain": [
       "65759"
      ]
     },
     "execution_count": 28,
     "metadata": {},
     "output_type": "execute_result"
    }
   ],
   "source": [
    "ll = list(data_geographic.groupby('iso_code'))\n",
    "n_dates = np.array([l[1].date.unique().size for l in ll])\n",
    "iso_c =  np.array([l[0] for l in ll])\n",
    "# [(l[0], l[1].date.unique().size) for l in ll]\n",
    "indexes = np.argsort(n_dates)\n",
    "sorted_n_dates = n_dates[indexes]\n",
    "print(sorted_n_dates)\n",
    "print(iso_c[indexes])\n",
    "np.sum(sorted_n_dates-4)"
   ]
  },
  {
   "cell_type": "code",
   "execution_count": null,
   "id": "static-worcester",
   "metadata": {},
   "outputs": [],
   "source": []
  },
  {
   "cell_type": "code",
   "execution_count": 29,
   "id": "popular-andorra",
   "metadata": {},
   "outputs": [],
   "source": [
    "def get_nearest_countries(distance_params, country_iso_code, n_countries=4):\n",
    "    country_distances = distance_params['country_distances']\n",
    "    country_conversion = distance_params['country_conversion'] \n",
    "    relevant_countires = distance_params['relevant_countires']\n",
    "    # get iso country 2 code for wanted country-\n",
    "    country_iso_2 = country_conversion[country_conversion['alpha-3'] == country_iso_code]['alpha-2'].item()\n",
    "    # get nearest countries index -  \n",
    "    specific_country = country_distances[country_distances['alpha-2'] == country_iso_2].to_numpy()\n",
    "    sorted_distances_index = np.argsort(specific_country[0, 1:], axis=0)[1:n_countries+5]\n",
    "    iso_2_countries = country_distances['alpha-2'].to_numpy()[sorted_distances_index]\n",
    "    iso_3_countries = []\n",
    "    for s in iso_2_countries:\n",
    "        if s in relevant_countires and len(iso_3_countries) < n_countries:\n",
    "            iso_3_countries.append(country_conversion[country_conversion['alpha-2'] == s]['alpha-3'].item())\n",
    "    return iso_3_countries"
   ]
  },
  {
   "cell_type": "code",
   "execution_count": 49,
   "id": "played-accordance",
   "metadata": {},
   "outputs": [],
   "source": [
    "def get_neighbors_dataset(current_iso, current_date, neighbors_isos, neighbors_data, n_times=5):\n",
    "    n_features = neighbors_data.shape[1]-2\n",
    "    data_per_iso = {k: v.sort_values(by='date') for (k, v) in neighbors_data.groupby(['iso_code'])}\n",
    "    neighbor_data = np.zeros(shape=(n_times, n_features, len(neighbors_isos)))\n",
    "#     for i_n, n in enumerate(countries_iso):\n",
    "#         relevant_data = data_per_iso[n][(data_per_iso[n]['date'] < current_date + pd.to_timedelta(n_times, unit='d')) & (data_per_iso[n]['date'] >= current_date)]\n",
    "#         neighbor_data[n_times-len(relevant_data):, :, i_n] = relevant_data.to_numpy()[:, 2:]\n",
    "    return neighbor_data"
   ]
  },
  {
   "cell_type": "code",
   "execution_count": 50,
   "id": "based-stable",
   "metadata": {},
   "outputs": [
    {
     "data": {
      "text/plain": [
       "['PSE', 'JOR', 'LBN', 'CYP']"
      ]
     },
     "execution_count": 50,
     "metadata": {},
     "output_type": "execute_result"
    }
   ],
   "source": [
    "distance_params = {}\n",
    "distance_params['country_distances'] = distance_matrix\n",
    "distance_params['country_conversion'] = country_conversion_data\n",
    "distance_params['relevant_countires'] = relevant_countires_2\n",
    "get_nearest_countries(distance_params, 'ISR', 4)"
   ]
  },
  {
   "cell_type": "markdown",
   "id": "swiss-minimum",
   "metadata": {},
   "source": [
    "## create input vector for geographic data"
   ]
  },
  {
   "cell_type": "code",
   "execution_count": 55,
   "id": "informal-calibration",
   "metadata": {},
   "outputs": [],
   "source": [
    "def create_input_dataset(data, n_times = 5, n_neighbors=4, with_y = False, is_neighbors = False, **distance_params):\n",
    "    # save df info as a dictionary where the key is the country iso-3 and the value is the features and date\n",
    "    data_per_iso = {k: v.sort_values(by='date') for (k, v) in data.groupby(['iso_code'])}\n",
    "    n_features = data.shape[1] - 2  # remove date and iso_code since they are not features\n",
    "    x_out = []\n",
    "    y_out = []\n",
    "    for iso in data_per_iso.keys():        \n",
    "        x_full = data_per_iso[iso].to_numpy()[:, 2:]\n",
    "        dates = np.sort(data_per_iso[iso].date.unique())\n",
    "        if is_neighbors:\n",
    "            neighbors_isos = get_nearest_countries(distance_params, country_iso_code = iso, n_countries=n_neighbors)\n",
    "            print(neighbors_isos)\n",
    "        for i_d, d in enumerate(dates):\n",
    "            if i_d+n_times < dates.size:\n",
    "                if is_neighbors:\n",
    "                    data_out = get_neighbors_dataset(iso, d, neighbors_isos, data, n_times)\n",
    "                    x_out.append(data_out)\n",
    "                else:\n",
    "                    x_out.append(x_full[i_d:i_d + n_times, :])\n",
    "            if with_y and i_d + n_times < dates.size:\n",
    "                y_out.append(x_full[i_d + n_times, :])        \n",
    "        if is_neighbors:\n",
    "            print(f\"finished country:{iso}, total num dates:{dates.size}\")\n",
    "\n",
    "    x_out_arr = np.array(x_out)\n",
    "    y_out_arr = np.array(y_out)\n",
    "    return x_out_arr, y_out_arr"
   ]
  },
  {
   "cell_type": "code",
   "execution_count": 56,
   "id": "extensive-impact",
   "metadata": {},
   "outputs": [],
   "source": [
    "x_geo, _ = create_input_dataset(data_geographic)\n",
    "x_covid, y_out = create_input_dataset(data_covid, with_y=True)\n",
    "x_health, _ = create_input_dataset(data_health)\n",
    "x_policies, _ = create_input_dataset(data_policies)\n",
    "# x_neighbors, _ = create_input_dataset(data_neighbors, n_times=5, n_neighbors=4, with_y=False, is_neighbors=True, country_distances=distance_matrix, country_conversion=country_conversion_data, relevant_countires=relevant_countires_2)"
   ]
  },
  {
   "cell_type": "code",
   "execution_count": 57,
   "id": "expired-psychology",
   "metadata": {},
   "outputs": [],
   "source": [
    "d = {k: v.sort_values(by='date') for (k, v) in data_geographic.groupby(['iso_code'])}\n"
   ]
  },
  {
   "cell_type": "code",
   "execution_count": 58,
   "id": "constant-union",
   "metadata": {},
   "outputs": [
    {
     "name": "stdout",
     "output_type": "stream",
     "text": [
      "['PAK', 'TJK', 'UZB', 'KGZ']\n"
     ]
    },
    {
     "ename": "KeyboardInterrupt",
     "evalue": "",
     "output_type": "error",
     "traceback": [
      "\u001b[0;31m---------------------------------------------------------------------------\u001b[0m",
      "\u001b[0;31mKeyboardInterrupt\u001b[0m                         Traceback (most recent call last)",
      "\u001b[0;32m<ipython-input-58-22b380525df9>\u001b[0m in \u001b[0;36m<module>\u001b[0;34m\u001b[0m\n\u001b[0;32m----> 1\u001b[0;31m \u001b[0mx_neighbors\u001b[0m\u001b[0;34m,\u001b[0m \u001b[0m_\u001b[0m \u001b[0;34m=\u001b[0m \u001b[0mcreate_input_dataset\u001b[0m\u001b[0;34m(\u001b[0m\u001b[0mdata_neighbors\u001b[0m\u001b[0;34m,\u001b[0m \u001b[0mn_times\u001b[0m\u001b[0;34m=\u001b[0m\u001b[0;36m5\u001b[0m\u001b[0;34m,\u001b[0m \u001b[0mn_neighbors\u001b[0m\u001b[0;34m=\u001b[0m\u001b[0;36m4\u001b[0m\u001b[0;34m,\u001b[0m \u001b[0mwith_y\u001b[0m\u001b[0;34m=\u001b[0m\u001b[0;32mFalse\u001b[0m\u001b[0;34m,\u001b[0m \u001b[0mis_neighbors\u001b[0m\u001b[0;34m=\u001b[0m\u001b[0;32mTrue\u001b[0m\u001b[0;34m,\u001b[0m \u001b[0mcountry_distances\u001b[0m\u001b[0;34m=\u001b[0m\u001b[0mdistance_matrix\u001b[0m\u001b[0;34m,\u001b[0m \u001b[0mcountry_conversion\u001b[0m\u001b[0;34m=\u001b[0m\u001b[0mcountry_conversion_data\u001b[0m\u001b[0;34m,\u001b[0m \u001b[0mrelevant_countires\u001b[0m\u001b[0;34m=\u001b[0m\u001b[0mrelevant_countires_2\u001b[0m\u001b[0;34m)\u001b[0m\u001b[0;34m\u001b[0m\u001b[0;34m\u001b[0m\u001b[0m\n\u001b[0m",
      "\u001b[0;32m<ipython-input-55-172b43bb524e>\u001b[0m in \u001b[0;36mcreate_input_dataset\u001b[0;34m(data, n_times, n_neighbors, with_y, is_neighbors, **distance_params)\u001b[0m\n\u001b[1;32m     14\u001b[0m             \u001b[0;32mif\u001b[0m \u001b[0mi_d\u001b[0m\u001b[0;34m+\u001b[0m\u001b[0mn_times\u001b[0m \u001b[0;34m<\u001b[0m \u001b[0mdates\u001b[0m\u001b[0;34m.\u001b[0m\u001b[0msize\u001b[0m\u001b[0;34m:\u001b[0m\u001b[0;34m\u001b[0m\u001b[0;34m\u001b[0m\u001b[0m\n\u001b[1;32m     15\u001b[0m                 \u001b[0;32mif\u001b[0m \u001b[0mis_neighbors\u001b[0m\u001b[0;34m:\u001b[0m\u001b[0;34m\u001b[0m\u001b[0;34m\u001b[0m\u001b[0m\n\u001b[0;32m---> 16\u001b[0;31m                     \u001b[0mdata_out\u001b[0m \u001b[0;34m=\u001b[0m \u001b[0mget_neighbors_dataset\u001b[0m\u001b[0;34m(\u001b[0m\u001b[0miso\u001b[0m\u001b[0;34m,\u001b[0m \u001b[0md\u001b[0m\u001b[0;34m,\u001b[0m \u001b[0mneighbors_isos\u001b[0m\u001b[0;34m,\u001b[0m \u001b[0mdata\u001b[0m\u001b[0;34m,\u001b[0m \u001b[0mn_times\u001b[0m\u001b[0;34m)\u001b[0m\u001b[0;34m\u001b[0m\u001b[0;34m\u001b[0m\u001b[0m\n\u001b[0m\u001b[1;32m     17\u001b[0m                     \u001b[0mx_out\u001b[0m\u001b[0;34m.\u001b[0m\u001b[0mappend\u001b[0m\u001b[0;34m(\u001b[0m\u001b[0mdata_out\u001b[0m\u001b[0;34m)\u001b[0m\u001b[0;34m\u001b[0m\u001b[0;34m\u001b[0m\u001b[0m\n\u001b[1;32m     18\u001b[0m                 \u001b[0;32melse\u001b[0m\u001b[0;34m:\u001b[0m\u001b[0;34m\u001b[0m\u001b[0;34m\u001b[0m\u001b[0m\n",
      "\u001b[0;32m<ipython-input-49-7674cd4abb54>\u001b[0m in \u001b[0;36mget_neighbors_dataset\u001b[0;34m(current_iso, current_date, neighbors_isos, neighbors_data, n_times)\u001b[0m\n\u001b[1;32m      1\u001b[0m \u001b[0;32mdef\u001b[0m \u001b[0mget_neighbors_dataset\u001b[0m\u001b[0;34m(\u001b[0m\u001b[0mcurrent_iso\u001b[0m\u001b[0;34m,\u001b[0m \u001b[0mcurrent_date\u001b[0m\u001b[0;34m,\u001b[0m \u001b[0mneighbors_isos\u001b[0m\u001b[0;34m,\u001b[0m \u001b[0mneighbors_data\u001b[0m\u001b[0;34m,\u001b[0m \u001b[0mn_times\u001b[0m\u001b[0;34m=\u001b[0m\u001b[0;36m5\u001b[0m\u001b[0;34m)\u001b[0m\u001b[0;34m:\u001b[0m\u001b[0;34m\u001b[0m\u001b[0;34m\u001b[0m\u001b[0m\n\u001b[1;32m      2\u001b[0m     \u001b[0mn_features\u001b[0m \u001b[0;34m=\u001b[0m \u001b[0mneighbors_data\u001b[0m\u001b[0;34m.\u001b[0m\u001b[0mshape\u001b[0m\u001b[0;34m[\u001b[0m\u001b[0;36m1\u001b[0m\u001b[0;34m]\u001b[0m\u001b[0;34m-\u001b[0m\u001b[0;36m2\u001b[0m\u001b[0;34m\u001b[0m\u001b[0;34m\u001b[0m\u001b[0m\n\u001b[0;32m----> 3\u001b[0;31m     \u001b[0mdata_per_iso\u001b[0m \u001b[0;34m=\u001b[0m \u001b[0;34m{\u001b[0m\u001b[0mk\u001b[0m\u001b[0;34m:\u001b[0m \u001b[0mv\u001b[0m\u001b[0;34m.\u001b[0m\u001b[0msort_values\u001b[0m\u001b[0;34m(\u001b[0m\u001b[0mby\u001b[0m\u001b[0;34m=\u001b[0m\u001b[0;34m'date'\u001b[0m\u001b[0;34m)\u001b[0m \u001b[0;32mfor\u001b[0m \u001b[0;34m(\u001b[0m\u001b[0mk\u001b[0m\u001b[0;34m,\u001b[0m \u001b[0mv\u001b[0m\u001b[0;34m)\u001b[0m \u001b[0;32min\u001b[0m \u001b[0mneighbors_data\u001b[0m\u001b[0;34m.\u001b[0m\u001b[0mgroupby\u001b[0m\u001b[0;34m(\u001b[0m\u001b[0;34m[\u001b[0m\u001b[0;34m'iso_code'\u001b[0m\u001b[0;34m]\u001b[0m\u001b[0;34m)\u001b[0m\u001b[0;34m}\u001b[0m\u001b[0;34m\u001b[0m\u001b[0;34m\u001b[0m\u001b[0m\n\u001b[0m\u001b[1;32m      4\u001b[0m     \u001b[0mneighbor_data\u001b[0m \u001b[0;34m=\u001b[0m \u001b[0mnp\u001b[0m\u001b[0;34m.\u001b[0m\u001b[0mzeros\u001b[0m\u001b[0;34m(\u001b[0m\u001b[0mshape\u001b[0m\u001b[0;34m=\u001b[0m\u001b[0;34m(\u001b[0m\u001b[0mn_times\u001b[0m\u001b[0;34m,\u001b[0m \u001b[0mn_features\u001b[0m\u001b[0;34m,\u001b[0m \u001b[0mlen\u001b[0m\u001b[0;34m(\u001b[0m\u001b[0mneighbors_isos\u001b[0m\u001b[0;34m)\u001b[0m\u001b[0;34m)\u001b[0m\u001b[0;34m)\u001b[0m\u001b[0;34m\u001b[0m\u001b[0;34m\u001b[0m\u001b[0m\n\u001b[1;32m      5\u001b[0m \u001b[0;31m#     for i_n, n in enumerate(countries_iso):\u001b[0m\u001b[0;34m\u001b[0m\u001b[0;34m\u001b[0m\u001b[0;34m\u001b[0m\u001b[0m\n",
      "\u001b[0;32m<ipython-input-49-7674cd4abb54>\u001b[0m in \u001b[0;36m<dictcomp>\u001b[0;34m(.0)\u001b[0m\n\u001b[1;32m      1\u001b[0m \u001b[0;32mdef\u001b[0m \u001b[0mget_neighbors_dataset\u001b[0m\u001b[0;34m(\u001b[0m\u001b[0mcurrent_iso\u001b[0m\u001b[0;34m,\u001b[0m \u001b[0mcurrent_date\u001b[0m\u001b[0;34m,\u001b[0m \u001b[0mneighbors_isos\u001b[0m\u001b[0;34m,\u001b[0m \u001b[0mneighbors_data\u001b[0m\u001b[0;34m,\u001b[0m \u001b[0mn_times\u001b[0m\u001b[0;34m=\u001b[0m\u001b[0;36m5\u001b[0m\u001b[0;34m)\u001b[0m\u001b[0;34m:\u001b[0m\u001b[0;34m\u001b[0m\u001b[0;34m\u001b[0m\u001b[0m\n\u001b[1;32m      2\u001b[0m     \u001b[0mn_features\u001b[0m \u001b[0;34m=\u001b[0m \u001b[0mneighbors_data\u001b[0m\u001b[0;34m.\u001b[0m\u001b[0mshape\u001b[0m\u001b[0;34m[\u001b[0m\u001b[0;36m1\u001b[0m\u001b[0;34m]\u001b[0m\u001b[0;34m-\u001b[0m\u001b[0;36m2\u001b[0m\u001b[0;34m\u001b[0m\u001b[0;34m\u001b[0m\u001b[0m\n\u001b[0;32m----> 3\u001b[0;31m     \u001b[0mdata_per_iso\u001b[0m \u001b[0;34m=\u001b[0m \u001b[0;34m{\u001b[0m\u001b[0mk\u001b[0m\u001b[0;34m:\u001b[0m \u001b[0mv\u001b[0m\u001b[0;34m.\u001b[0m\u001b[0msort_values\u001b[0m\u001b[0;34m(\u001b[0m\u001b[0mby\u001b[0m\u001b[0;34m=\u001b[0m\u001b[0;34m'date'\u001b[0m\u001b[0;34m)\u001b[0m \u001b[0;32mfor\u001b[0m \u001b[0;34m(\u001b[0m\u001b[0mk\u001b[0m\u001b[0;34m,\u001b[0m \u001b[0mv\u001b[0m\u001b[0;34m)\u001b[0m \u001b[0;32min\u001b[0m \u001b[0mneighbors_data\u001b[0m\u001b[0;34m.\u001b[0m\u001b[0mgroupby\u001b[0m\u001b[0;34m(\u001b[0m\u001b[0;34m[\u001b[0m\u001b[0;34m'iso_code'\u001b[0m\u001b[0;34m]\u001b[0m\u001b[0;34m)\u001b[0m\u001b[0;34m}\u001b[0m\u001b[0;34m\u001b[0m\u001b[0;34m\u001b[0m\u001b[0m\n\u001b[0m\u001b[1;32m      4\u001b[0m     \u001b[0mneighbor_data\u001b[0m \u001b[0;34m=\u001b[0m \u001b[0mnp\u001b[0m\u001b[0;34m.\u001b[0m\u001b[0mzeros\u001b[0m\u001b[0;34m(\u001b[0m\u001b[0mshape\u001b[0m\u001b[0;34m=\u001b[0m\u001b[0;34m(\u001b[0m\u001b[0mn_times\u001b[0m\u001b[0;34m,\u001b[0m \u001b[0mn_features\u001b[0m\u001b[0;34m,\u001b[0m \u001b[0mlen\u001b[0m\u001b[0;34m(\u001b[0m\u001b[0mneighbors_isos\u001b[0m\u001b[0;34m)\u001b[0m\u001b[0;34m)\u001b[0m\u001b[0;34m)\u001b[0m\u001b[0;34m\u001b[0m\u001b[0;34m\u001b[0m\u001b[0m\n\u001b[1;32m      5\u001b[0m \u001b[0;31m#     for i_n, n in enumerate(countries_iso):\u001b[0m\u001b[0;34m\u001b[0m\u001b[0;34m\u001b[0m\u001b[0;34m\u001b[0m\u001b[0m\n",
      "\u001b[0;32m~/anaconda3/envs/corona_env/lib/python3.8/site-packages/pandas/core/frame.py\u001b[0m in \u001b[0;36msort_values\u001b[0;34m(self, by, axis, ascending, inplace, kind, na_position, ignore_index)\u001b[0m\n\u001b[1;32m   4925\u001b[0m \u001b[0;34m\u001b[0m\u001b[0m\n\u001b[1;32m   4926\u001b[0m             \u001b[0mby\u001b[0m \u001b[0;34m=\u001b[0m \u001b[0mby\u001b[0m\u001b[0;34m[\u001b[0m\u001b[0;36m0\u001b[0m\u001b[0;34m]\u001b[0m\u001b[0;34m\u001b[0m\u001b[0;34m\u001b[0m\u001b[0m\n\u001b[0;32m-> 4927\u001b[0;31m             \u001b[0mk\u001b[0m \u001b[0;34m=\u001b[0m \u001b[0mself\u001b[0m\u001b[0;34m.\u001b[0m\u001b[0m_get_label_or_level_values\u001b[0m\u001b[0;34m(\u001b[0m\u001b[0mby\u001b[0m\u001b[0;34m,\u001b[0m \u001b[0maxis\u001b[0m\u001b[0;34m=\u001b[0m\u001b[0maxis\u001b[0m\u001b[0;34m)\u001b[0m\u001b[0;34m\u001b[0m\u001b[0;34m\u001b[0m\u001b[0m\n\u001b[0m\u001b[1;32m   4928\u001b[0m \u001b[0;34m\u001b[0m\u001b[0m\n\u001b[1;32m   4929\u001b[0m             \u001b[0;32mif\u001b[0m \u001b[0misinstance\u001b[0m\u001b[0;34m(\u001b[0m\u001b[0mascending\u001b[0m\u001b[0;34m,\u001b[0m \u001b[0;34m(\u001b[0m\u001b[0mtuple\u001b[0m\u001b[0;34m,\u001b[0m \u001b[0mlist\u001b[0m\u001b[0;34m)\u001b[0m\u001b[0;34m)\u001b[0m\u001b[0;34m:\u001b[0m\u001b[0;34m\u001b[0m\u001b[0;34m\u001b[0m\u001b[0m\n",
      "\u001b[0;32m~/anaconda3/envs/corona_env/lib/python3.8/site-packages/pandas/core/generic.py\u001b[0m in \u001b[0;36m_get_label_or_level_values\u001b[0;34m(self, key, axis)\u001b[0m\n\u001b[1;32m   1686\u001b[0m         \u001b[0;32mif\u001b[0m \u001b[0mself\u001b[0m\u001b[0;34m.\u001b[0m\u001b[0m_is_label_reference\u001b[0m\u001b[0;34m(\u001b[0m\u001b[0mkey\u001b[0m\u001b[0;34m,\u001b[0m \u001b[0maxis\u001b[0m\u001b[0;34m=\u001b[0m\u001b[0maxis\u001b[0m\u001b[0;34m)\u001b[0m\u001b[0;34m:\u001b[0m\u001b[0;34m\u001b[0m\u001b[0;34m\u001b[0m\u001b[0m\n\u001b[1;32m   1687\u001b[0m             \u001b[0mself\u001b[0m\u001b[0;34m.\u001b[0m\u001b[0m_check_label_or_level_ambiguity\u001b[0m\u001b[0;34m(\u001b[0m\u001b[0mkey\u001b[0m\u001b[0;34m,\u001b[0m \u001b[0maxis\u001b[0m\u001b[0;34m=\u001b[0m\u001b[0maxis\u001b[0m\u001b[0;34m)\u001b[0m\u001b[0;34m\u001b[0m\u001b[0;34m\u001b[0m\u001b[0m\n\u001b[0;32m-> 1688\u001b[0;31m             \u001b[0mvalues\u001b[0m \u001b[0;34m=\u001b[0m \u001b[0mself\u001b[0m\u001b[0;34m.\u001b[0m\u001b[0mxs\u001b[0m\u001b[0;34m(\u001b[0m\u001b[0mkey\u001b[0m\u001b[0;34m,\u001b[0m \u001b[0maxis\u001b[0m\u001b[0;34m=\u001b[0m\u001b[0mother_axes\u001b[0m\u001b[0;34m[\u001b[0m\u001b[0;36m0\u001b[0m\u001b[0;34m]\u001b[0m\u001b[0;34m)\u001b[0m\u001b[0;34m.\u001b[0m\u001b[0m_values\u001b[0m\u001b[0;34m\u001b[0m\u001b[0;34m\u001b[0m\u001b[0m\n\u001b[0m\u001b[1;32m   1689\u001b[0m         \u001b[0;32melif\u001b[0m \u001b[0mself\u001b[0m\u001b[0;34m.\u001b[0m\u001b[0m_is_level_reference\u001b[0m\u001b[0;34m(\u001b[0m\u001b[0mkey\u001b[0m\u001b[0;34m,\u001b[0m \u001b[0maxis\u001b[0m\u001b[0;34m=\u001b[0m\u001b[0maxis\u001b[0m\u001b[0;34m)\u001b[0m\u001b[0;34m:\u001b[0m\u001b[0;34m\u001b[0m\u001b[0;34m\u001b[0m\u001b[0m\n\u001b[1;32m   1690\u001b[0m             \u001b[0mvalues\u001b[0m \u001b[0;34m=\u001b[0m \u001b[0mself\u001b[0m\u001b[0;34m.\u001b[0m\u001b[0maxes\u001b[0m\u001b[0;34m[\u001b[0m\u001b[0maxis\u001b[0m\u001b[0;34m]\u001b[0m\u001b[0;34m.\u001b[0m\u001b[0mget_level_values\u001b[0m\u001b[0;34m(\u001b[0m\u001b[0mkey\u001b[0m\u001b[0;34m)\u001b[0m\u001b[0;34m.\u001b[0m\u001b[0m_values\u001b[0m\u001b[0;34m\u001b[0m\u001b[0;34m\u001b[0m\u001b[0m\n",
      "\u001b[0;32m~/anaconda3/envs/corona_env/lib/python3.8/site-packages/pandas/core/generic.py\u001b[0m in \u001b[0;36mxs\u001b[0;34m(self, key, axis, level, drop_level)\u001b[0m\n\u001b[1;32m   3527\u001b[0m \u001b[0;34m\u001b[0m\u001b[0m\n\u001b[1;32m   3528\u001b[0m         \u001b[0;32mif\u001b[0m \u001b[0maxis\u001b[0m \u001b[0;34m==\u001b[0m \u001b[0;36m1\u001b[0m\u001b[0;34m:\u001b[0m\u001b[0;34m\u001b[0m\u001b[0;34m\u001b[0m\u001b[0m\n\u001b[0;32m-> 3529\u001b[0;31m             \u001b[0;32mreturn\u001b[0m \u001b[0mself\u001b[0m\u001b[0;34m[\u001b[0m\u001b[0mkey\u001b[0m\u001b[0;34m]\u001b[0m\u001b[0;34m\u001b[0m\u001b[0;34m\u001b[0m\u001b[0m\n\u001b[0m\u001b[1;32m   3530\u001b[0m \u001b[0;34m\u001b[0m\u001b[0m\n\u001b[1;32m   3531\u001b[0m         \u001b[0mself\u001b[0m\u001b[0;34m.\u001b[0m\u001b[0m_consolidate_inplace\u001b[0m\u001b[0;34m(\u001b[0m\u001b[0;34m)\u001b[0m\u001b[0;34m\u001b[0m\u001b[0;34m\u001b[0m\u001b[0m\n",
      "\u001b[0;32m~/anaconda3/envs/corona_env/lib/python3.8/site-packages/pandas/core/frame.py\u001b[0m in \u001b[0;36m__getitem__\u001b[0;34m(self, key)\u001b[0m\n\u001b[1;32m   2767\u001b[0m     \u001b[0;32mdef\u001b[0m \u001b[0m__getitem__\u001b[0m\u001b[0;34m(\u001b[0m\u001b[0mself\u001b[0m\u001b[0;34m,\u001b[0m \u001b[0mkey\u001b[0m\u001b[0;34m)\u001b[0m\u001b[0;34m:\u001b[0m\u001b[0;34m\u001b[0m\u001b[0;34m\u001b[0m\u001b[0m\n\u001b[1;32m   2768\u001b[0m         \u001b[0mkey\u001b[0m \u001b[0;34m=\u001b[0m \u001b[0mlib\u001b[0m\u001b[0;34m.\u001b[0m\u001b[0mitem_from_zerodim\u001b[0m\u001b[0;34m(\u001b[0m\u001b[0mkey\u001b[0m\u001b[0;34m)\u001b[0m\u001b[0;34m\u001b[0m\u001b[0;34m\u001b[0m\u001b[0m\n\u001b[0;32m-> 2769\u001b[0;31m         \u001b[0mkey\u001b[0m \u001b[0;34m=\u001b[0m \u001b[0mcom\u001b[0m\u001b[0;34m.\u001b[0m\u001b[0mapply_if_callable\u001b[0m\u001b[0;34m(\u001b[0m\u001b[0mkey\u001b[0m\u001b[0;34m,\u001b[0m \u001b[0mself\u001b[0m\u001b[0;34m)\u001b[0m\u001b[0;34m\u001b[0m\u001b[0;34m\u001b[0m\u001b[0m\n\u001b[0m\u001b[1;32m   2770\u001b[0m \u001b[0;34m\u001b[0m\u001b[0m\n\u001b[1;32m   2771\u001b[0m         \u001b[0;32mif\u001b[0m \u001b[0mis_hashable\u001b[0m\u001b[0;34m(\u001b[0m\u001b[0mkey\u001b[0m\u001b[0;34m)\u001b[0m\u001b[0;34m:\u001b[0m\u001b[0;34m\u001b[0m\u001b[0;34m\u001b[0m\u001b[0m\n",
      "\u001b[0;32m~/anaconda3/envs/corona_env/lib/python3.8/site-packages/pandas/core/common.py\u001b[0m in \u001b[0;36mapply_if_callable\u001b[0;34m(maybe_callable, obj, **kwargs)\u001b[0m\n\u001b[1;32m    340\u001b[0m     \"\"\"\n\u001b[1;32m    341\u001b[0m \u001b[0;34m\u001b[0m\u001b[0m\n\u001b[0;32m--> 342\u001b[0;31m     \u001b[0;32mif\u001b[0m \u001b[0mcallable\u001b[0m\u001b[0;34m(\u001b[0m\u001b[0mmaybe_callable\u001b[0m\u001b[0;34m)\u001b[0m\u001b[0;34m:\u001b[0m\u001b[0;34m\u001b[0m\u001b[0;34m\u001b[0m\u001b[0m\n\u001b[0m\u001b[1;32m    343\u001b[0m         \u001b[0;32mreturn\u001b[0m \u001b[0mmaybe_callable\u001b[0m\u001b[0;34m(\u001b[0m\u001b[0mobj\u001b[0m\u001b[0;34m,\u001b[0m \u001b[0;34m**\u001b[0m\u001b[0mkwargs\u001b[0m\u001b[0;34m)\u001b[0m\u001b[0;34m\u001b[0m\u001b[0;34m\u001b[0m\u001b[0m\n\u001b[1;32m    344\u001b[0m \u001b[0;34m\u001b[0m\u001b[0m\n",
      "\u001b[0;31mKeyboardInterrupt\u001b[0m: "
     ]
    }
   ],
   "source": [
    "x_neighbors, _ = create_input_dataset(data_neighbors, n_times=5, n_neighbors=4, with_y=False, is_neighbors=True, country_distances=distance_matrix, country_conversion=country_conversion_data, relevant_countires=relevant_countires_2)"
   ]
  },
  {
   "cell_type": "code",
   "execution_count": null,
   "id": "domestic-client",
   "metadata": {},
   "outputs": [],
   "source": []
  },
  {
   "cell_type": "code",
   "execution_count": null,
   "id": "developmental-compound",
   "metadata": {},
   "outputs": [],
   "source": [
    "len(d['AFG'][(d['AFG']['date'] < np.sort(d['AFG'].date.unique())[0] +pd.to_timedelta(5, unit='d')) & (d['AFG']['date']>=d['AFG']['date'][0])])"
   ]
  },
  {
   "cell_type": "code",
   "execution_count": null,
   "id": "revised-duncan",
   "metadata": {},
   "outputs": [],
   "source": []
  }
 ],
 "metadata": {
  "kernelspec": {
   "display_name": "Python 3",
   "language": "python",
   "name": "python3"
  },
  "language_info": {
   "codemirror_mode": {
    "name": "ipython",
    "version": 3
   },
   "file_extension": ".py",
   "mimetype": "text/x-python",
   "name": "python",
   "nbconvert_exporter": "python",
   "pygments_lexer": "ipython3",
   "version": "3.8.5"
  }
 },
 "nbformat": 4,
 "nbformat_minor": 5
}
