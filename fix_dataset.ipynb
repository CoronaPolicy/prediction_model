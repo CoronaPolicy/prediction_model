{
 "cells": [
  {
   "cell_type": "code",
   "execution_count": 1,
   "id": "pressing-building",
   "metadata": {},
   "outputs": [],
   "source": [
    "import numpy as np \n",
    "import pandas as pd\n",
    "from matplotlib import pyplot as plt\n",
    "from datetime import datetime\n"
   ]
  },
  {
   "cell_type": "code",
   "execution_count": 73,
   "id": "republican-campbell",
   "metadata": {},
   "outputs": [],
   "source": [
    "should_save_data = False"
   ]
  },
  {
   "cell_type": "code",
   "execution_count": 2,
   "id": "unlimited-inquiry",
   "metadata": {},
   "outputs": [],
   "source": [
    "data_ox = pd.read_csv(\"OxCGRT_march_21_2021.csv\",low_memory=False)\n",
    "data_owid = pd.read_csv(\"owid-covid-data_march_21_2021.csv\",low_memory=False)"
   ]
  },
  {
   "cell_type": "markdown",
   "id": "serial-eight",
   "metadata": {},
   "source": [
    "### data_ox include the oxford data base which include: "
   ]
  },
  {
   "cell_type": "code",
   "execution_count": 3,
   "id": "documented-crawford",
   "metadata": {},
   "outputs": [
    {
     "data": {
      "text/plain": [
       "Index(['CountryName', 'CountryCode', 'RegionName', 'RegionCode',\n",
       "       'Jurisdiction', 'Date', 'C1_School closing', 'C1_Flag',\n",
       "       'C2_Workplace closing', 'C2_Flag', 'C3_Cancel public events', 'C3_Flag',\n",
       "       'C4_Restrictions on gatherings', 'C4_Flag', 'C5_Close public transport',\n",
       "       'C5_Flag', 'C6_Stay at home requirements', 'C6_Flag',\n",
       "       'C7_Restrictions on internal movement', 'C7_Flag',\n",
       "       'C8_International travel controls', 'E1_Income support', 'E1_Flag',\n",
       "       'E2_Debt/contract relief', 'E3_Fiscal measures',\n",
       "       'E4_International support', 'H1_Public information campaigns',\n",
       "       'H1_Flag', 'H2_Testing policy', 'H3_Contact tracing',\n",
       "       'H4_Emergency investment in healthcare', 'H5_Investment in vaccines',\n",
       "       'H6_Facial Coverings', 'H6_Flag', 'H7_Vaccination policy', 'H7_Flag',\n",
       "       'H8_Protection of elderly people', 'H8_Flag', 'M1_Wildcard',\n",
       "       'ConfirmedCases', 'ConfirmedDeaths', 'StringencyIndex',\n",
       "       'StringencyIndexForDisplay', 'StringencyLegacyIndex',\n",
       "       'StringencyLegacyIndexForDisplay', 'GovernmentResponseIndex',\n",
       "       'GovernmentResponseIndexForDisplay', 'ContainmentHealthIndex',\n",
       "       'ContainmentHealthIndexForDisplay', 'EconomicSupportIndex',\n",
       "       'EconomicSupportIndexForDisplay'],\n",
       "      dtype='object')"
      ]
     },
     "execution_count": 3,
     "metadata": {},
     "output_type": "execute_result"
    }
   ],
   "source": [
    "data_ox.columns"
   ]
  },
  {
   "cell_type": "markdown",
   "id": "interim-tsunami",
   "metadata": {},
   "source": [
    "### Data_owid include the owid data base which include:"
   ]
  },
  {
   "cell_type": "code",
   "execution_count": 4,
   "id": "functional-logging",
   "metadata": {},
   "outputs": [
    {
     "data": {
      "text/plain": [
       "Index(['iso_code', 'continent', 'location', 'date', 'total_cases', 'new_cases',\n",
       "       'new_cases_smoothed', 'total_deaths', 'new_deaths',\n",
       "       'new_deaths_smoothed', 'total_cases_per_million',\n",
       "       'new_cases_per_million', 'new_cases_smoothed_per_million',\n",
       "       'total_deaths_per_million', 'new_deaths_per_million',\n",
       "       'new_deaths_smoothed_per_million', 'reproduction_rate', 'icu_patients',\n",
       "       'icu_patients_per_million', 'hosp_patients',\n",
       "       'hosp_patients_per_million', 'weekly_icu_admissions',\n",
       "       'weekly_icu_admissions_per_million', 'weekly_hosp_admissions',\n",
       "       'weekly_hosp_admissions_per_million', 'new_tests', 'total_tests',\n",
       "       'total_tests_per_thousand', 'new_tests_per_thousand',\n",
       "       'new_tests_smoothed', 'new_tests_smoothed_per_thousand',\n",
       "       'positive_rate', 'tests_per_case', 'tests_units', 'total_vaccinations',\n",
       "       'people_vaccinated', 'people_fully_vaccinated', 'new_vaccinations',\n",
       "       'new_vaccinations_smoothed', 'total_vaccinations_per_hundred',\n",
       "       'people_vaccinated_per_hundred', 'people_fully_vaccinated_per_hundred',\n",
       "       'new_vaccinations_smoothed_per_million', 'stringency_index',\n",
       "       'population', 'population_density', 'median_age', 'aged_65_older',\n",
       "       'aged_70_older', 'gdp_per_capita', 'extreme_poverty',\n",
       "       'cardiovasc_death_rate', 'diabetes_prevalence', 'female_smokers',\n",
       "       'male_smokers', 'handwashing_facilities', 'hospital_beds_per_thousand',\n",
       "       'life_expectancy', 'human_development_index'],\n",
       "      dtype='object')"
      ]
     },
     "execution_count": 4,
     "metadata": {},
     "output_type": "execute_result"
    }
   ],
   "source": [
    "data_owid.columns"
   ]
  },
  {
   "cell_type": "markdown",
   "id": "healthy-jonathan",
   "metadata": {},
   "source": [
    "####  The table should be: \n",
    "\n",
    "#### State: (26 features)\n",
    "\n",
    "###### Geographic and general state( 9 features): \n",
    "(1) CountryName,  <br />\n",
    "(2) Date,  <br />\n",
    "(3) population,  <br />\n",
    "(4) population_density,  <br />\n",
    "(5) median_age,  <br />\n",
    "(6) gdp_per_capita,  <br />\n",
    "(7) aged_65_older/population,  <br />\n",
    "(8) life_expectancy,  <br />\n",
    "(9)human_development_index. <br />\n",
    "\n",
    "###### Corona state (9 features): \n",
    "(1) total_cases per million, <br />\n",
    "(2)total_deaths per million, <br />\n",
    "(3) new_cases_per_million, <br />\n",
    "(4) new_deaths_per_million,<br />\n",
    "(5) new_tests_per_thousand, <br />\n",
    "(6) positive_rate, <br />\n",
    "(7) people_fully_vaccinated_per_hundred, <br />\n",
    "(8)icu_patients_per_million, <br />\n",
    "(9) StringencyIndex(oxford) <br />\n",
    "\n",
    "###### Health care state (6 features):  \n",
    "(1) cardiovasc_death_rate, <br />\n",
    "(2) diabetes_prevalence, <br />\n",
    "(3) female_smokers+ male_smokers/population,<br />\n",
    "(4) hospital_beds_per_thousand, <br />\n",
    "(5) hosp_patients_per_million, <br />\n",
    "(6) icu_patients_per_million. <br />\n",
    "\n",
    "\n",
    "#### Policy: ( 23 features )\n",
    "(1) C1_School closing,         + 0.5 X(2)  C1_flag <br />\n",
    "(3) C2_Workplace closing,      + 0.5 X (4)  C2_flag <br />\n",
    "(5) C3_Cancel public events,   + 0.5 X (6)  C3_flag <br />\n",
    "(7) C4_Restrictions on gatherings,+  0.5X (8)  C4_flag <br />\n",
    "(9) C5_Close public transport,    + 0.5X(10) C5_flag  <br />\n",
    "(11) C6_Stay at home requirements, + 0.5X (12) C6_Flag <br />\n",
    "(13) C7_Restrictions on internal movement +0.5X(14) C7_Flag <br />\n",
    "(15) C8_International travel controls, +0.5X(16)C8_Flag  <br />\n",
    "(17) H1_Public information campaigns, +0.5X(18)H1_Flag <br />\n",
    "(19) H2_Testing policy, +0.5X (20) H2_Flag <br />\n",
    "(21) H6_Facial Coverings, +0.5X(22) H6_Flag <br />\n",
    "(23) C9_Vaccinate_n precetage of the population (new_vaccinations[t+1]/population) <br />\n"
   ]
  },
  {
   "cell_type": "markdown",
   "id": "initial-appearance",
   "metadata": {},
   "source": [
    "### seir models:"
   ]
  },
  {
   "cell_type": "markdown",
   "id": "inappropriate-huntington",
   "metadata": {},
   "source": [
    "![image info](./images/SEIR-SEIRS.png)"
   ]
  },
  {
   "cell_type": "markdown",
   "id": "faced-alarm",
   "metadata": {},
   "source": [
    "####  (1)"
   ]
  },
  {
   "cell_type": "markdown",
   "id": "built-apartment",
   "metadata": {},
   "source": [
    "\\begin{split}\\begin{aligned}\n",
    "\\frac{dS}{dt} & = -\\frac{\\beta SI}{N}\\\\\n",
    "\\frac{dE}{dt} & = \\frac{\\beta SI}{N} - \\sigma E\\\\\n",
    "\\frac{dI}{dt} & = \\sigma E - \\gamma I\\\\\n",
    "\\frac{dR}{dt} & = \\gamma I\n",
    "\\end{aligned}\\end{split}"
   ]
  },
  {
   "cell_type": "markdown",
   "id": "underlying-queens",
   "metadata": {},
   "source": [
    "### We want to learn:\n",
    "\\begin{equation}\n",
    "\\begin{split}\n",
    "& \\beta - \\textrm{Rate of spread, the probability of transmitting disease between a susceptible and an infectious individual } \\\\ \n",
    "& \\sigma - \\textrm{incubation rate, the rate of latent individuals becoming infectious} \\\\ \n",
    "& \\gamma - \\textrm{Recovery rate, = 1/D, is determined by the average duration, D, of infection}  \\\\ \n",
    "& \\xi - \\textrm{rate which recovered individuals return to the susceptible state} \\\\ \n",
    "\\end{split}\n",
    "\\end{equation}"
   ]
  },
  {
   "cell_type": "markdown",
   "id": "extensive-challenge",
   "metadata": {},
   "source": [
    "#### (2) SEIR with vital dynamics: (enabling vital dynamics (births and deaths) )"
   ]
  },
  {
   "cell_type": "markdown",
   "id": "painful-hypothetical",
   "metadata": {},
   "source": [
    "\\begin{split}\\begin{aligned}\n",
    "\\frac{dS}{dt} & = \\mu N - \\nu S - \\frac{\\beta SI}{N}\\\\\n",
    "\\frac{dE}{dt} & = \\frac{\\beta SI}{N} - \\nu E - \\sigma E\\\\\n",
    "\\frac{dI}{dt} & = \\sigma E - \\gamma I - \\nu I\\\\\n",
    "\\frac{dR}{dt} & = \\gamma I - \\nu R\n",
    "\\end{aligned}\\end{split}"
   ]
  },
  {
   "cell_type": "markdown",
   "id": "buried-bennett",
   "metadata": {},
   "source": [
    "### Addition:\n",
    "\\begin{equation}\n",
    "\\begin{split}\n",
    "& \\mu - \\textrm{birth rate } \\\\ \n",
    "& \\nu - \\textrm{death rates} \\\\ \n",
    "\\end{split}\n",
    "\\end{equation}"
   ]
  },
  {
   "cell_type": "markdown",
   "id": "million-campaign",
   "metadata": {},
   "source": [
    "### The output: \n",
    "\\begin{equation}\n",
    "\\begin{split}\n",
    "& S- \\textrm{susceptible population} \\\\\n",
    "& I - \\textrm{infected}, \\\\\n",
    "& R - \\textrm{removed population (either by death or recovery)}\\\\\n",
    "& N = S+I+R\n",
    "\\end{split}\n",
    "\\end{equation}"
   ]
  },
  {
   "cell_type": "code",
   "execution_count": 5,
   "id": "indirect-trust",
   "metadata": {},
   "outputs": [],
   "source": [
    "data_owid.date = pd.to_datetime(data_owid['date'],format='%Y-%m-%d')\n",
    "data_ox.Date = pd.to_datetime(data_ox['Date'],format='%Y%m%d')"
   ]
  },
  {
   "cell_type": "code",
   "execution_count": 6,
   "id": "increasing-zealand",
   "metadata": {},
   "outputs": [],
   "source": [
    "data_ox = data_ox[data_ox.RegionName.isna()]"
   ]
  },
  {
   "cell_type": "code",
   "execution_count": 7,
   "id": "optimum-stations",
   "metadata": {},
   "outputs": [
    {
     "data": {
      "text/plain": [
       "Index(['CountryName', 'CountryCode', 'RegionName', 'RegionCode',\n",
       "       'Jurisdiction', 'Date', 'C1_School closing', 'C1_Flag',\n",
       "       'C2_Workplace closing', 'C2_Flag', 'C3_Cancel public events', 'C3_Flag',\n",
       "       'C4_Restrictions on gatherings', 'C4_Flag', 'C5_Close public transport',\n",
       "       'C5_Flag', 'C6_Stay at home requirements', 'C6_Flag',\n",
       "       'C7_Restrictions on internal movement', 'C7_Flag',\n",
       "       'C8_International travel controls', 'E1_Income support', 'E1_Flag',\n",
       "       'E2_Debt/contract relief', 'E3_Fiscal measures',\n",
       "       'E4_International support', 'H1_Public information campaigns',\n",
       "       'H1_Flag', 'H2_Testing policy', 'H3_Contact tracing',\n",
       "       'H4_Emergency investment in healthcare', 'H5_Investment in vaccines',\n",
       "       'H6_Facial Coverings', 'H6_Flag', 'H7_Vaccination policy', 'H7_Flag',\n",
       "       'H8_Protection of elderly people', 'H8_Flag', 'M1_Wildcard',\n",
       "       'ConfirmedCases', 'ConfirmedDeaths', 'StringencyIndex',\n",
       "       'StringencyIndexForDisplay', 'StringencyLegacyIndex',\n",
       "       'StringencyLegacyIndexForDisplay', 'GovernmentResponseIndex',\n",
       "       'GovernmentResponseIndexForDisplay', 'ContainmentHealthIndex',\n",
       "       'ContainmentHealthIndexForDisplay', 'EconomicSupportIndex',\n",
       "       'EconomicSupportIndexForDisplay'],\n",
       "      dtype='object')"
      ]
     },
     "execution_count": 7,
     "metadata": {},
     "output_type": "execute_result"
    }
   ],
   "source": [
    "data_ox.columns"
   ]
  },
  {
   "cell_type": "markdown",
   "id": "danish-terrorism",
   "metadata": {},
   "source": [
    "### Actions data base data_ox"
   ]
  },
  {
   "cell_type": "code",
   "execution_count": 8,
   "id": "talented-duration",
   "metadata": {},
   "outputs": [],
   "source": [
    "data_ox=data_ox.replace(np.nan, 0)"
   ]
  },
  {
   "cell_type": "code",
   "execution_count": 9,
   "id": "excess-seating",
   "metadata": {},
   "outputs": [],
   "source": [
    "data_ox['C1_index']=(data_ox['C1_School closing']+0.5*data_ox['C1_Flag'])*2\n",
    "data_ox['C2_index']=(data_ox['C2_Workplace closing']+0.5*data_ox['C2_Flag'])*2\n",
    "data_ox['C3_index']=(data_ox['C3_Cancel public events']+0.5*data_ox['C3_Flag'])*2\n",
    "data_ox['C4_index']=(data_ox['C4_Restrictions on gatherings']+0.5*data_ox['C4_Flag'])*2\n",
    "data_ox['C5_index']=(data_ox['C5_Close public transport']+0.5*data_ox['C5_Flag'])*2\n",
    "data_ox['C6_index']=(data_ox['C6_Stay at home requirements']+0.5*data_ox['C6_Flag'])*2\n",
    "data_ox['C7_index']=(data_ox['C7_Restrictions on internal movement']+0.5*data_ox['C7_Flag'])*2\n",
    "data_ox['C8_index']= data_ox['C8_International travel controls']\n",
    "data_ox['H1_index']=(data_ox['H1_Public information campaigns']+0.5*data_ox['H1_Flag'])*2\n",
    "data_ox['H6_index']=(data_ox['H6_Facial Coverings']+0.5*data_ox['H6_Flag'])*2\n",
    "data_ox['H8_index']=(data_ox['H8_Protection of elderly people']+0.5*data_ox['H8_Flag'])*2\n",
    "\n",
    "\n",
    "#data_ox['C9_index'] ----> need the other data base to be done...\n",
    "\n",
    "data_ox=data_ox.drop(columns=[\n",
    "            'C1_School closing','C2_Workplace closing','C3_Cancel public events','C4_Restrictions on gatherings'\n",
    "            ,'C5_Close public transport', 'C6_Stay at home requirements', 'C7_Restrictions on internal movement',\n",
    "            'C8_International travel controls','H1_Public information campaigns','H6_Facial Coverings', \n",
    "            'C1_Flag','C2_Flag','C3_Flag','C4_Flag','C5_Flag','C6_Flag','C7_Flag', 'H1_Flag','H6_Flag'\n",
    "            ])\n",
    "\n",
    "# Delete economic staff\n",
    "data_ox=data_ox.drop(columns=[\n",
    "       'E2_Debt/contract relief', 'E3_Fiscal measures',\n",
    "       'E4_International support', 'H2_Testing policy', 'H3_Contact tracing',\n",
    "       'H4_Emergency investment in healthcare', 'H5_Investment in vaccines',\n",
    "       'H7_Vaccination policy', 'H7_Flag','H8_Protection of elderly people', 'H8_Flag',\n",
    "       'M1_Wildcard', 'StringencyIndexForDisplay',\n",
    "       'StringencyLegacyIndex', 'StringencyLegacyIndexForDisplay',\n",
    "       'GovernmentResponseIndex', 'GovernmentResponseIndexForDisplay',\n",
    "        'ContainmentHealthIndexForDisplay',\n",
    "       'EconomicSupportIndex', 'EconomicSupportIndexForDisplay','Jurisdiction',\n",
    "       'E1_Income support', 'E1_Flag',\n",
    "        'CountryName', 'RegionName', 'RegionCode'\n",
    "            ])\n"
   ]
  },
  {
   "cell_type": "code",
   "execution_count": 10,
   "id": "major-warning",
   "metadata": {},
   "outputs": [],
   "source": [
    "if should_save_data:\n",
    "    data_ox.to_csv('modified_Oxford.csv', index=False) "
   ]
  },
  {
   "cell_type": "code",
   "execution_count": 11,
   "id": "nuclear-program",
   "metadata": {},
   "outputs": [],
   "source": [
    "data_ox = data_ox.rename(columns={'CountryCode': 'iso_code', \n",
    "                                  'Date':'date', \n",
    "                                  'ConfirmedCases':'total_cases',\n",
    "                                  'ConfirmedDeaths':'total_deaths'})"
   ]
  },
  {
   "cell_type": "code",
   "execution_count": 12,
   "id": "computational-sixth",
   "metadata": {},
   "outputs": [
    {
     "data": {
      "text/plain": [
       "Index(['iso_code', 'date', 'total_cases', 'total_deaths', 'StringencyIndex',\n",
       "       'ContainmentHealthIndex', 'C1_index', 'C2_index', 'C3_index',\n",
       "       'C4_index', 'C5_index', 'C6_index', 'C7_index', 'C8_index', 'H1_index',\n",
       "       'H6_index', 'H8_index'],\n",
       "      dtype='object')"
      ]
     },
     "execution_count": 12,
     "metadata": {},
     "output_type": "execute_result"
    }
   ],
   "source": [
    "data_ox.columns"
   ]
  },
  {
   "cell_type": "markdown",
   "id": "secure-muslim",
   "metadata": {},
   "source": [
    "#### Creating Geographic and General State:"
   ]
  },
  {
   "cell_type": "code",
   "execution_count": 13,
   "id": "alive-manner",
   "metadata": {},
   "outputs": [],
   "source": [
    "data_owid=data_owid.drop(columns=[\n",
    "        'location', 'continent', 'total_cases', 'new_cases',\n",
    "       'new_cases_smoothed', 'total_deaths', 'new_deaths',\n",
    "       'new_deaths_smoothed',\n",
    "       'new_cases_smoothed_per_million',\n",
    "       'new_deaths_smoothed_per_million', 'reproduction_rate', 'icu_patients',\n",
    "        'hosp_patients',\n",
    "        'weekly_icu_admissions',\n",
    "       'weekly_icu_admissions_per_million', 'weekly_hosp_admissions',\n",
    "       'weekly_hosp_admissions_per_million', 'new_tests', 'total_tests',\n",
    "       'total_tests_per_thousand', \n",
    "       'new_tests_smoothed', 'new_tests_smoothed_per_thousand',\n",
    "       'tests_per_case', 'tests_units', 'total_vaccinations',\n",
    "       'people_vaccinated', 'people_fully_vaccinated', 'new_vaccinations',\n",
    "       'total_vaccinations_per_hundred',\n",
    "       'people_vaccinated_per_hundred',\n",
    "       'new_vaccinations_smoothed_per_million', 'stringency_index',\n",
    "       'aged_70_older', 'extreme_poverty',\n",
    "        'handwashing_facilities'\n",
    "            ])"
   ]
  },
  {
   "cell_type": "code",
   "execution_count": 14,
   "id": "assigned-diamond",
   "metadata": {},
   "outputs": [
    {
     "data": {
      "text/plain": [
       "Index(['iso_code', 'date', 'total_cases_per_million', 'new_cases_per_million',\n",
       "       'total_deaths_per_million', 'new_deaths_per_million',\n",
       "       'icu_patients_per_million', 'hosp_patients_per_million',\n",
       "       'new_tests_per_thousand', 'positive_rate', 'new_vaccinations_smoothed',\n",
       "       'people_fully_vaccinated_per_hundred', 'population',\n",
       "       'population_density', 'median_age', 'aged_65_older', 'gdp_per_capita',\n",
       "       'cardiovasc_death_rate', 'diabetes_prevalence', 'female_smokers',\n",
       "       'male_smokers', 'hospital_beds_per_thousand', 'life_expectancy',\n",
       "       'human_development_index'],\n",
       "      dtype='object')"
      ]
     },
     "execution_count": 14,
     "metadata": {},
     "output_type": "execute_result"
    }
   ],
   "source": [
    "data_owid.columns"
   ]
  },
  {
   "cell_type": "code",
   "execution_count": 15,
   "id": "fifteen-factory",
   "metadata": {},
   "outputs": [],
   "source": [
    "data_owid=data_owid.replace(np.nan, 0)\n",
    "data_owid['smokers'] = data_owid['male_smokers']+data_owid['female_smokers']\n",
    "data_owid = data_owid.drop(columns = ['male_smokers', 'female_smokers'])"
   ]
  },
  {
   "cell_type": "code",
   "execution_count": 16,
   "id": "emerging-municipality",
   "metadata": {},
   "outputs": [
    {
     "data": {
      "text/plain": [
       "Index(['iso_code', 'date', 'total_cases_per_million', 'new_cases_per_million',\n",
       "       'total_deaths_per_million', 'new_deaths_per_million',\n",
       "       'icu_patients_per_million', 'hosp_patients_per_million',\n",
       "       'new_tests_per_thousand', 'positive_rate', 'new_vaccinations_smoothed',\n",
       "       'people_fully_vaccinated_per_hundred', 'population',\n",
       "       'population_density', 'median_age', 'aged_65_older', 'gdp_per_capita',\n",
       "       'cardiovasc_death_rate', 'diabetes_prevalence',\n",
       "       'hospital_beds_per_thousand', 'life_expectancy',\n",
       "       'human_development_index', 'smokers'],\n",
       "      dtype='object')"
      ]
     },
     "execution_count": 16,
     "metadata": {},
     "output_type": "execute_result"
    }
   ],
   "source": [
    "data_owid.columns"
   ]
  },
  {
   "cell_type": "code",
   "execution_count": 17,
   "id": "electoral-salmon",
   "metadata": {},
   "outputs": [],
   "source": [
    "data_owid.to_csv('modified_owid.csv', index=False)"
   ]
  },
  {
   "cell_type": "markdown",
   "id": "incorporated-disposal",
   "metadata": {},
   "source": [
    "## combine databases"
   ]
  },
  {
   "cell_type": "code",
   "execution_count": 18,
   "id": "forbidden-peoples",
   "metadata": {},
   "outputs": [],
   "source": [
    "data_combined = pd.merge(data_owid, data_ox, how='inner', left_on=['iso_code', 'date'], right_on = ['iso_code', 'date'])"
   ]
  },
  {
   "cell_type": "code",
   "execution_count": 19,
   "id": "adjacent-belarus",
   "metadata": {},
   "outputs": [],
   "source": [
    "geographic_columns = ['iso_code', \n",
    "                     'date',\n",
    "                     'population',\n",
    "                     'population_density',\n",
    "                     'median_age',\n",
    "                     'gdp_per_capita',\n",
    "                     'aged_65_older',\n",
    "                     'life_expectancy',\n",
    "                     'human_development_index']\n",
    "covid_columns = ['iso_code',\n",
    "                'date',\n",
    "                'total_cases_per_million', \n",
    "                'total_cases',\n",
    "                'total_deaths_per_million',\n",
    "                'total_deaths',\n",
    "                'people_fully_vaccinated_per_hundred',\n",
    "                'hosp_patients_per_million',\n",
    "                'icu_patients_per_million',\n",
    "                'new_tests_per_thousand',\n",
    "                'new_cases_per_million',\n",
    "                'new_deaths_per_million',                \n",
    "                'positive_rate',\n",
    "                'StringencyIndex',\n",
    "                'ContainmentHealthIndex']\n",
    "health_columns = ['cardiovasc_death_rate',\n",
    "                 'smokers',\n",
    "                 'diabetes_prevalence',\n",
    "                 'hospital_beds_per_thousand']\n",
    "policies_columns = ['C1_index',\n",
    "                    'C2_index',\n",
    "                    'C3_index',\n",
    "                    'C4_index',\n",
    "                    'C5_index',\n",
    "                    'C6_index',\n",
    "                    'C7_index',\n",
    "                    'C8_index',\n",
    "                    'H1_index',\n",
    "                    'H6_index',\n",
    "                    'H8_index',\n",
    "                    'new_vaccinations_smoothed']"
   ]
  },
  {
   "cell_type": "code",
   "execution_count": 20,
   "id": "ultimate-chambers",
   "metadata": {},
   "outputs": [],
   "source": [
    "data_geographic = data_combined[geographic_columns]\n",
    "data_covid = data_combined[covid_columns]\n",
    "data_health = data_combined[health_columns]\n",
    "data_policies = data_combined[policies_columns]"
   ]
  },
  {
   "cell_type": "markdown",
   "id": "faced-explorer",
   "metadata": {},
   "source": [
    "## save all data files"
   ]
  },
  {
   "cell_type": "code",
   "execution_count": 21,
   "id": "random-stupid",
   "metadata": {},
   "outputs": [],
   "source": [
    "if should_save_data:\n",
    "    date = datetime.date(datetime.now())\n",
    "    data_geographic.to_csv(f\"data_geographic_{date}.csv\")\n",
    "    data_covid.to_csv(f\"data_covid_{date}.csv\")\n",
    "    data_health.to_csv(f\"data_health_{date}.csv\")\n",
    "    data_policies.to_csv(f\"data_policies_{date}.csv\")"
   ]
  },
  {
   "cell_type": "markdown",
   "id": "metallic-graduation",
   "metadata": {},
   "source": [
    "## create informaiton about distance between countries "
   ]
  },
  {
   "cell_type": "code",
   "execution_count": 22,
   "id": "collect-stylus",
   "metadata": {},
   "outputs": [],
   "source": [
    "distance_matrix = pd.read_csv(\"distance-matrix.csv\")\n",
    "distance_matrix = distance_matrix.rename(columns={'Unnamed: 0':'alpha-2'})"
   ]
  },
  {
   "cell_type": "code",
   "execution_count": 70,
   "id": "resistant-stockholm",
   "metadata": {},
   "outputs": [],
   "source": [
    "country_conversion_data = pd.read_csv(\"country_iso_conversion.csv\")"
   ]
  },
  {
   "cell_type": "code",
   "execution_count": 24,
   "id": "average-lancaster",
   "metadata": {},
   "outputs": [],
   "source": [
    "country_conversion_data = country_conversion_data[['alpha-2', 'alpha-3']]"
   ]
  },
  {
   "cell_type": "code",
   "execution_count": 25,
   "id": "adequate-spell",
   "metadata": {},
   "outputs": [],
   "source": [
    "relevant_countries = data_geographic['iso_code']\n",
    "merged_geogrpahic_data = pd.merge(relevant_countries, country_conversion_data, how='left', left_on='iso_code', right_on='alpha-3')[['alpha-2', 'alpha-3']]"
   ]
  },
  {
   "cell_type": "code",
   "execution_count": 26,
   "id": "charming-segment",
   "metadata": {},
   "outputs": [],
   "source": [
    "relevant_countires = merged_geogrpahic_data['alpha-2'].unique()"
   ]
  },
  {
   "cell_type": "code",
   "execution_count": null,
   "id": "ranging-white",
   "metadata": {},
   "outputs": [],
   "source": []
  },
  {
   "cell_type": "code",
   "execution_count": 27,
   "id": "general-dylan",
   "metadata": {},
   "outputs": [],
   "source": [
    "def get_nearest_countries(country_distances, country_conversion, relevant_countires, country_iso_code, n_countries=4):\n",
    "    # get iso country 2 code for wanted country-\n",
    "    country_iso_2 = country_conversion[country_conversion['alpha-3'] == country_iso_code]['alpha-2'].item()\n",
    "    # get nearest countries index -  \n",
    "    specific_country = country_distances[country_distances['alpha-2'] == country_iso_2].to_numpy()\n",
    "    sorted_distances_index = np.argsort(specific_country[0, 1:], axis=0)[1:n_countries+5]\n",
    "    iso_2_countries = country_distances['alpha-2'].to_numpy()[sorted_distances_index]\n",
    "    print(iso_2_countries)\n",
    "    iso_3_countries = []\n",
    "    for s in iso_2_countries:\n",
    "        if s in relevant_countires and len(iso_3_countries) < n_countries:\n",
    "            iso_3_countries.append(country_conversion[country_conversion['alpha-2'] == s]['alpha-3'].item())\n",
    "    return iso_3_countries"
   ]
  },
  {
   "cell_type": "code",
   "execution_count": 72,
   "id": "fleet-sword",
   "metadata": {},
   "outputs": [],
   "source": [
    "# ll = list(data_geographic.groupby('iso_code'))\n",
    "# [(l[0], l[1].date.unique().size) for l in ll]"
   ]
  },
  {
   "cell_type": "code",
   "execution_count": null,
   "id": "becoming-appendix",
   "metadata": {},
   "outputs": [],
   "source": [
    "get_nearest_countries(distance_matrix, country_conversion_data, relevant_countires, 'ISR', 4)"
   ]
  },
  {
   "cell_type": "markdown",
   "id": "original-creator",
   "metadata": {},
   "source": [
    "## create input vector for geographic data"
   ]
  },
  {
   "cell_type": "code",
   "execution_count": null,
   "id": "serious-folder",
   "metadata": {},
   "outputs": [],
   "source": [
    "def create_geo_dataset(geographic_data, distance_matrix, country_conversion, relevant_countries,\n",
    "                       n_countries = 4, n_times = 5):\n",
    "    # save df info as a dictionary where the key is the country iso-3 and the value is the features and date\n",
    "    geo_data_per_iso = {k: v.sort_values(by='date') for (k, v) in geographic_data.groupby(['iso_code'])}\n",
    "    n_features = geographic_data.shape[1] - 2  # remove date and iso_code since they are not features\n",
    "    dates = np.sort(geographic_data.date.unique())\n",
    "    x_geo_full = np.zeros(shape=[dates.size, n_features, n_countries + 1])\n",
    "    x_geo = []\n",
    "    y_geo = []\n",
    "    for iso in geo_data_per_iso.keys():\n",
    "        nearest_countries = get_nearest_countries(distance_matrix, country_conversion, relevant_countires, iso, 4)     \n",
    "        x_geo_full[:, :, 0] = geo_data_per_iso[iso]\n",
    "        for i, n in enumerate(nearest_countries):\n",
    "            x_geo_full[:, :, i+1] = geo_data_per_iso[n]\n",
    "        for i_d, d in enumerate(dates):\n",
    "            if i_d+n_times <= dates.size:\n",
    "                x_geo.append(x_geo_full[i_d:i_d + n_times, :, :])"
   ]
  },
  {
   "cell_type": "code",
   "execution_count": null,
   "id": "neither-medline",
   "metadata": {},
   "outputs": [],
   "source": []
  },
  {
   "cell_type": "code",
   "execution_count": null,
   "id": "proud-cassette",
   "metadata": {},
   "outputs": [],
   "source": []
  },
  {
   "cell_type": "code",
   "execution_count": null,
   "id": "abstract-foundation",
   "metadata": {},
   "outputs": [],
   "source": []
  }
 ],
 "metadata": {
  "kernelspec": {
   "display_name": "Python 3",
   "language": "python",
   "name": "python3"
  },
  "language_info": {
   "codemirror_mode": {
    "name": "ipython",
    "version": 3
   },
   "file_extension": ".py",
   "mimetype": "text/x-python",
   "name": "python",
   "nbconvert_exporter": "python",
   "pygments_lexer": "ipython3",
   "version": "3.7.9"
  }
 },
 "nbformat": 4,
 "nbformat_minor": 5
}
